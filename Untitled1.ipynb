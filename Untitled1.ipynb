{
 "cells": [
  {
   "cell_type": "code",
   "execution_count": 18,
   "metadata": {
    "collapsed": false
   },
   "outputs": [
    {
     "ename": "ImportError",
     "evalue": "No module named 'markupbase'",
     "output_type": "error",
     "traceback": [
      "\u001b[0;31m---------------------------------------------------------------------------\u001b[0m",
      "\u001b[0;31mImportError\u001b[0m                               Traceback (most recent call last)",
      "\u001b[0;32m<ipython-input-18-c34bfee12a8a>\u001b[0m in \u001b[0;36m<module>\u001b[0;34m()\u001b[0m\n\u001b[0;32m----> 1\u001b[0;31m \u001b[0;32mimport\u001b[0m \u001b[0mHTMLParser\u001b[0m\u001b[0;34m\u001b[0m\u001b[0m\n\u001b[0m\u001b[1;32m      2\u001b[0m \u001b[0;32mfrom\u001b[0m \u001b[0murllib2\u001b[0m \u001b[0;32mimport\u001b[0m \u001b[0murlopen\u001b[0m\u001b[0;34m\u001b[0m\u001b[0m\n\u001b[1;32m      3\u001b[0m \u001b[0;31m#from BeautifulSoup import BeautifulSoup as BS\u001b[0m\u001b[0;34m\u001b[0m\u001b[0;34m\u001b[0m\u001b[0m\n\u001b[1;32m      4\u001b[0m \u001b[0;32mfrom\u001b[0m \u001b[0mbs4\u001b[0m \u001b[0;32mimport\u001b[0m \u001b[0mBeautifulSoup\u001b[0m\u001b[0;34m\u001b[0m\u001b[0m\n\u001b[1;32m      5\u001b[0m \u001b[0;34m\u001b[0m\u001b[0m\n",
      "\u001b[0;32m/Users/liamconnell/anaconda/lib/python3.4/site-packages/HTMLParser.py\u001b[0m in \u001b[0;36m<module>\u001b[0;34m()\u001b[0m\n\u001b[1;32m      9\u001b[0m \u001b[0;34m\u001b[0m\u001b[0m\n\u001b[1;32m     10\u001b[0m \u001b[0;34m\u001b[0m\u001b[0m\n\u001b[0;32m---> 11\u001b[0;31m \u001b[0;32mimport\u001b[0m \u001b[0mmarkupbase\u001b[0m\u001b[0;34m\u001b[0m\u001b[0m\n\u001b[0m\u001b[1;32m     12\u001b[0m \u001b[0;32mimport\u001b[0m \u001b[0mre\u001b[0m\u001b[0;34m\u001b[0m\u001b[0m\n\u001b[1;32m     13\u001b[0m \u001b[0;34m\u001b[0m\u001b[0m\n",
      "\u001b[0;31mImportError\u001b[0m: No module named 'markupbase'"
     ]
    }
   ],
   "source": [
    "import HTMLParser\n",
    "from urllib2 import urlopen\n",
    "#from BeautifulSoup import BeautifulSoup as BS\n",
    "from bs4 import BeautifulSoup\n",
    "\n",
    "def get_url_lesson_from_url_topic(url_topic):\n",
    "    # Topic includes: Earth Science, Life Science, Physical Science, Biology, Chemestry and Physics\n",
    "    lst_url = []\n",
    "    html = urlopen(url_topic).read()\n",
    "    soup = BeautifulSoup(html, 'html.parser')\n",
    "    for tag_h3 in soup.find_all('h3'):\n",
    "        r_url =  tag_h3.li.a.get('href')\n",
    "        lst_url.append(url_topic + r_url.strip('/').split('/')[1])\n",
    "    return lst_url\n",
    "\n",
    "def get_read_url_from_url_lesson(url_lesson):\n",
    "    s_lesson = url_lesson.strip('/').split('/')[-1]\n",
    "    return \"%s/lesson/%s/?referrer=content_details\" % (url_lesson, s_lesson)\n",
    " \n",
    "def crawl_text_from_read_url(url_read):\n",
    "    html = urlopen(url_topic).read()\n",
    "    print(html)\n",
    "    soup = BeautifulSoup(html, 'html.parser')\n",
    "    print(soup.find_all('div', id = 'modality_content'))\n",
    "    \n",
    "def get_keyword_from_url_topic(url_topic):\n",
    "    # Topic includes: Earth Science, Life Science, Physical Science, Biology, Chemestry and Physics\n",
    "    lst_url = []\n",
    "    html = urlopen(url_topic).read()\n",
    "    soup = BeautifulSoup(html, 'html.parser')\n",
    "    for tag_h3 in soup.find_all('h3'):\n",
    "        url_res =  ' '.join(tag_h3.li.a.get('href').strip('/').split('/')[-1].split('-'))\n",
    "        lst_url.append(url_res)\n",
    "    return lst_url\n",
    "\n",
    "lst_url_topic = ['https://www.ck12.org/earth-science/', 'http://www.ck12.org/life-science/', 'http://www.ck12.org/physical-science/', 'http://www.ck12.org/biology/', 'http://www.ck12.org/chemistry/', 'http://www.ck12.org/physics/']\n",
    "\n",
    "set_keyword = set()\n",
    "for url_topic in lst_url_topic:\n",
    "    lst_keyword = get_keyword_from_url_topic(url_topic)\n",
    "    for keyword in lst_keyword:\n",
    "        set_keyword.add(keyword)\n",
    "for keyword in set_keyword:\n",
    "    print(keyword)\n",
    "'''\n",
    "for url in get_url_lesson_from_url_topic(url_topic_earth):\n",
    "    print url\n",
    "    get_read_url_from_url_lesson(url)\n",
    "'''"
   ]
  },
  {
   "cell_type": "code",
   "execution_count": null,
   "metadata": {
    "collapsed": true
   },
   "outputs": [],
   "source": []
  }
 ],
 "metadata": {
  "kernelspec": {
   "display_name": "Python 3",
   "language": "python",
   "name": "python3"
  },
  "language_info": {
   "codemirror_mode": {
    "name": "ipython",
    "version": 3
   },
   "file_extension": ".py",
   "mimetype": "text/x-python",
   "name": "python",
   "nbconvert_exporter": "python",
   "pygments_lexer": "ipython3",
   "version": "3.4.3"
  }
 },
 "nbformat": 4,
 "nbformat_minor": 0
}
