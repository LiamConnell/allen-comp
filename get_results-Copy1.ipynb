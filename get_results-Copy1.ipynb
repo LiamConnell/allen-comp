{
 "cells": [
  {
   "cell_type": "code",
   "execution_count": 101,
   "metadata": {
    "collapsed": true
   },
   "outputs": [],
   "source": [
    "import time\n",
    "import pandas as pd\n",
    "from wikiapi import WikiApi\n",
    "wiki = WikiApi()\n",
    "import re\n",
    "from gensim.models import Word2Vec\n",
    "#import word2vec\n",
    "from scipy.spatial.distance import cosine\n",
    "import numpy as np\n",
    "import heapq\n",
    "import string\n"
   ]
  },
  {
   "cell_type": "code",
   "execution_count": 102,
   "metadata": {
    "collapsed": false
   },
   "outputs": [
    {
     "data": {
      "text/plain": [
       "'!\"#$%&\\'()*+,-./:;<=>?@[\\\\]^_`{|}~'"
      ]
     },
     "execution_count": 102,
     "metadata": {},
     "output_type": "execute_result"
    }
   ],
   "source": [
    "string.punctuation"
   ]
  },
  {
   "cell_type": "code",
   "execution_count": 134,
   "metadata": {
    "collapsed": true
   },
   "outputs": [],
   "source": [
    "\n",
    "\n",
    "def remove_punctuation(s):\n",
    "    exclude = set(string.punctuation)\n",
    "    s = ''.join(ch for ch in s if ch not in exclude)\n",
    "    return s\n",
    "#TODO: fix this or dont use\n",
    "def get_longword(s, n):\n",
    "    s = re.split(' ', s)\n",
    "    return heapq.nlargest(n, s, key=len)\n",
    "\n",
    "#TODO: make this work with one word/period\n",
    "def get_avg_vec(words):\n",
    "\ttry:\n",
    "\t\twords = re.split(' ', words)\n",
    "\texcept:\n",
    "\t\tpass\n",
    "\tnwords = 0\n",
    "\tfeatureVec = np.zeros((num_features,))#,dtype=\"float32\")\n",
    "\tfor word in words:\n",
    "\t\tif word in index2word_set:\n",
    "\t\t\tnwords = nwords + 1.\n",
    "\t\t\tfeatureVec = np.add(featureVec,model[word])\n",
    "\tif nwords > 0:\n",
    "\t\tfeatureVec = np.divide(featureVec,nwords)\n",
    "\treturn featureVec\n",
    "\n",
    "def get_tvec(row):\n",
    "    if row['correctAnswer'] == 'A':\n",
    "        a = row['aavec']\n",
    "        return a\n",
    "    elif row['correctAnswer'] == 'B':\n",
    "        a = row['bavec']\n",
    "        return a\n",
    "    elif row['correctAnswer'] == 'C':\n",
    "        a = row['cavec']\n",
    "        return a\n",
    "    elif row['correctAnswer'] == 'D':\n",
    "        a = row['davec']\n",
    "        return a\n",
    "    \n",
    "def run_through_theta(v):\n",
    "    return v.dot(theta.as_matrix())\n",
    "\n",
    "def get_winner_from_avecs(row):\n",
    "\ttry:\t\n",
    "\t\tdists = []\n",
    "\t\tfor col in row['answerA':'answerD']:\n",
    "\t\t#TODO: if 'not' in words: 1-avec\n",
    "\t\t\tavec = get_avg_vec(col)\n",
    "\t\t\t#if 'not' in re.split(' ',col):\n",
    "\t\t\t#\tavec = 1-avec\n",
    "\t\t\t#\tprint('NOT')\n",
    "\t\t\t#why nan errors?\n",
    "\t\t\tif sum(np.isfinite(avec)) < 300:\n",
    "\t\t\t\tprint('avec')\n",
    "\t\t\t\tprint(avec)\n",
    "\t\t\tif  sum(np.isfinite(row['pvec'])) < 300:\n",
    "\t\t\t\tprint('pvec')\n",
    "\t\t\t\tprint(row['pvec'])\n",
    "\t\t\tdist = cosine(avec, row['pvec'])\n",
    "\t\t\tdists.append(dist)\n",
    "\t\tm = np.nanmin(dists)\n",
    "\t\tbest = [i for i, j in enumerate(dists) if j == m]\n",
    "\t\tif best == [0]:\n",
    "\t\t\treturn 'A'\n",
    "\t\tif best == [1]:\n",
    "\n",
    "\t\t\treturn 'B'\n",
    "\t\tif best == [2]:\n",
    "\t\t\treturn 'C'\n",
    "\t\tif best == [3]:\n",
    "\t\t\treturn 'D'\n",
    "\t\telse:\n",
    "\t\t\tprint('returning C becuase no best cosine')\n",
    "\t\t\tprint(len(best))\n",
    "\t\t\tprint(dists)\n",
    "\t\t\tprint(m)\n",
    "\t\t\treturn 'C'\n",
    "\texcept:\n",
    "\t\tprint('some error, returning C')\n",
    "\t\treturn 'C'"
   ]
  },
  {
   "cell_type": "code",
   "execution_count": 3,
   "metadata": {
    "collapsed": false
   },
   "outputs": [
    {
     "name": "stdout",
     "output_type": "stream",
     "text": [
      "data gathered: 103.47626209259033\n"
     ]
    }
   ],
   "source": [
    "start = time.time()\n",
    "model = Word2Vec.load_word2vec_format('/Users/liamconnell/Downloads/GoogleNews-vectors-negative300.bin', binary = True)\n",
    "lap1 = time.time()\n",
    "print('data gathered: %s' % (lap1 - start))"
   ]
  },
  {
   "cell_type": "code",
   "execution_count": 1,
   "metadata": {
    "collapsed": false
   },
   "outputs": [
    {
     "ename": "NameError",
     "evalue": "name 'model' is not defined",
     "output_type": "error",
     "traceback": [
      "\u001b[0;31m---------------------------------------------------------------------------\u001b[0m",
      "\u001b[0;31mNameError\u001b[0m                                 Traceback (most recent call last)",
      "\u001b[0;32m<ipython-input-1-8ee631dd5378>\u001b[0m in \u001b[0;36m<module>\u001b[0;34m()\u001b[0m\n\u001b[0;32m----> 1\u001b[0;31m \u001b[0mmodel\u001b[0m\u001b[0;34m[\u001b[0m\u001b[0;34m'queen'\u001b[0m\u001b[0;34m]\u001b[0m\u001b[0;34m\u001b[0m\u001b[0m\n\u001b[0m",
      "\u001b[0;31mNameError\u001b[0m: name 'model' is not defined"
     ]
    }
   ],
   "source": [
    "model['queen']"
   ]
  },
  {
   "cell_type": "code",
   "execution_count": 4,
   "metadata": {
    "collapsed": true
   },
   "outputs": [],
   "source": [
    "index2word_set = set(model.index2word)\n",
    "num_features = 300"
   ]
  },
  {
   "cell_type": "code",
   "execution_count": 78,
   "metadata": {
    "collapsed": true
   },
   "outputs": [],
   "source": [
    "data  = pd.read_csv('../input/validation_set.tsv', '\\t')\n",
    "#theta = pd.read_csv('../input/theta_100-a_e-10.csv')"
   ]
  },
  {
   "cell_type": "code",
   "execution_count": 156,
   "metadata": {
    "collapsed": true
   },
   "outputs": [],
   "source": [
    "data  = pd.read_csv('../input/validation_set_mod-5.csv')\n"
   ]
  },
  {
   "cell_type": "code",
   "execution_count": 157,
   "metadata": {
    "collapsed": false
   },
   "outputs": [
    {
     "data": {
      "text/html": [
       "<div>\n",
       "<table border=\"1\" class=\"dataframe\">\n",
       "  <thead>\n",
       "    <tr style=\"text-align: right;\">\n",
       "      <th></th>\n",
       "      <th>Unnamed: 0</th>\n",
       "      <th>id</th>\n",
       "      <th>question</th>\n",
       "      <th>answerA</th>\n",
       "      <th>answerB</th>\n",
       "      <th>answerC</th>\n",
       "      <th>answerD</th>\n",
       "      <th>keyword</th>\n",
       "      <th>words</th>\n",
       "    </tr>\n",
       "  </thead>\n",
       "  <tbody>\n",
       "    <tr>\n",
       "      <th>0</th>\n",
       "      <td>0</td>\n",
       "      <td>102501</td>\n",
       "      <td>A meter is industry by developing a process of...</td>\n",
       "      <td>cool foods during shipping</td>\n",
       "      <td>yard</td>\n",
       "      <td>nervous system</td>\n",
       "      <td>birds of prey</td>\n",
       "      <td>['developing', 'industry', 'examples', 'proces...</td>\n",
       "      <td>['Developing\\n\\nDeveloping is a 1994 short fil...</td>\n",
       "    </tr>\n",
       "    <tr>\n",
       "      <th>1</th>\n",
       "      <td>1</td>\n",
       "      <td>102502</td>\n",
       "      <td>Which part of directly involved in recycling t...</td>\n",
       "      <td>panting</td>\n",
       "      <td>urethra</td>\n",
       "      <td>predators</td>\n",
       "      <td>water</td>\n",
       "      <td>['reproduction,', 'temperature', '__________.'...</td>\n",
       "      <td>['Reproduction, Fertility and Development\\n\\nR...</td>\n",
       "    </tr>\n",
       "    <tr>\n",
       "      <th>2</th>\n",
       "      <td>2</td>\n",
       "      <td>102503</td>\n",
       "      <td>Which of the seeds grow better in the light or...</td>\n",
       "      <td>muscular system</td>\n",
       "      <td>keep one group in a light place and another in...</td>\n",
       "      <td>skates and rays</td>\n",
       "      <td>nervous tissue</td>\n",
       "      <td>['framework', 'provides', 'organs?', 'better',...</td>\n",
       "      <td>['Framework\\n\\nFramework may refer to:\\n\\nComp...</td>\n",
       "    </tr>\n",
       "    <tr>\n",
       "      <th>3</th>\n",
       "      <td>3</td>\n",
       "      <td>102504</td>\n",
       "      <td>Which of the hermaphroditic. This growing seas...</td>\n",
       "      <td>coniferous forest</td>\n",
       "      <td>no reproductive organs</td>\n",
       "      <td>there is less water loss through small leaves</td>\n",
       "      <td>perennial</td>\n",
       "      <td>['hermaphroditic.', 'growing', 'season', 'Whic...</td>\n",
       "      <td>['hermaphroditic.', 'Growing\\n\\nGrowing may re...</td>\n",
       "    </tr>\n",
       "    <tr>\n",
       "      <th>4</th>\n",
       "      <td>4</td>\n",
       "      <td>102505</td>\n",
       "      <td>When marsupials following is not a transport o...</td>\n",
       "      <td>heart.</td>\n",
       "      <td>glucagon.</td>\n",
       "      <td>hatched.</td>\n",
       "      <td>to protect vital organs.</td>\n",
       "      <td>['marsupials', 'following', 'transport', 'resp...</td>\n",
       "      <td>['Marsupial\\n\\nMarsupials are an infraclass of...</td>\n",
       "    </tr>\n",
       "  </tbody>\n",
       "</table>\n",
       "</div>"
      ],
      "text/plain": [
       "   Unnamed: 0      id                                           question  \\\n",
       "0           0  102501  A meter is industry by developing a process of...   \n",
       "1           1  102502  Which part of directly involved in recycling t...   \n",
       "2           2  102503  Which of the seeds grow better in the light or...   \n",
       "3           3  102504  Which of the hermaphroditic. This growing seas...   \n",
       "4           4  102505  When marsupials following is not a transport o...   \n",
       "\n",
       "                      answerA  \\\n",
       "0  cool foods during shipping   \n",
       "1                     panting   \n",
       "2             muscular system   \n",
       "3           coniferous forest   \n",
       "4                      heart.   \n",
       "\n",
       "                                             answerB  \\\n",
       "0                                               yard   \n",
       "1                                            urethra   \n",
       "2  keep one group in a light place and another in...   \n",
       "3                             no reproductive organs   \n",
       "4                                          glucagon.   \n",
       "\n",
       "                                         answerC                   answerD  \\\n",
       "0                                 nervous system             birds of prey   \n",
       "1                                      predators                     water   \n",
       "2                                skates and rays            nervous tissue   \n",
       "3  there is less water loss through small leaves                 perennial   \n",
       "4                                       hatched.  to protect vital organs.   \n",
       "\n",
       "                                             keyword  \\\n",
       "0  ['developing', 'industry', 'examples', 'proces...   \n",
       "1  ['reproduction,', 'temperature', '__________.'...   \n",
       "2  ['framework', 'provides', 'organs?', 'better',...   \n",
       "3  ['hermaphroditic.', 'growing', 'season', 'Whic...   \n",
       "4  ['marsupials', 'following', 'transport', 'resp...   \n",
       "\n",
       "                                               words  \n",
       "0  ['Developing\\n\\nDeveloping is a 1994 short fil...  \n",
       "1  ['Reproduction, Fertility and Development\\n\\nR...  \n",
       "2  ['Framework\\n\\nFramework may refer to:\\n\\nComp...  \n",
       "3  ['hermaphroditic.', 'Growing\\n\\nGrowing may re...  \n",
       "4  ['Marsupial\\n\\nMarsupials are an infraclass of...  "
      ]
     },
     "execution_count": 157,
     "metadata": {},
     "output_type": "execute_result"
    }
   ],
   "source": [
    "data.head()"
   ]
  },
  {
   "cell_type": "code",
   "execution_count": 150,
   "metadata": {
    "collapsed": false
   },
   "outputs": [],
   "source": [
    "theta = pd.read_csv('../input/qkeywd-5_theta_1000-a_e-100.csv')"
   ]
  },
  {
   "cell_type": "code",
   "execution_count": 129,
   "metadata": {
    "collapsed": true
   },
   "outputs": [],
   "source": [
    "theta = pd.DataFrame(np.identity(300))"
   ]
  },
  {
   "cell_type": "code",
   "execution_count": 114,
   "metadata": {
    "collapsed": false
   },
   "outputs": [],
   "source": [
    "data.question = data.question.apply(remove_punctuation)\n",
    "data.answerA = data.answerA.apply(remove_punctuation)\n",
    "data.answerB = data.answerB.apply(remove_punctuation)\n",
    "data.answerC = data.answerC.apply(remove_punctuation)\n",
    "data.answerD = data.answerD.apply(remove_punctuation)"
   ]
  },
  {
   "cell_type": "code",
   "execution_count": 145,
   "metadata": {
    "collapsed": false
   },
   "outputs": [],
   "source": [
    "data['keyword'] =data['question'].apply(get_longword, args = (5,))\n",
    "\n",
    "#I get to choose this\n",
    "data['qvec'] = data.keyword.apply(get_avg_vec) \n"
   ]
  },
  {
   "cell_type": "code",
   "execution_count": 138,
   "metadata": {
    "collapsed": true
   },
   "outputs": [],
   "source": [
    "pd.Series.apply?"
   ]
  },
  {
   "cell_type": "code",
   "execution_count": 146,
   "metadata": {
    "collapsed": true
   },
   "outputs": [],
   "source": [
    "#data['qvec'] = data.question.apply(get_avg_vec) \n",
    "data['akeyword'] =data['answerA'].apply(get_longword, args = (1,))\n",
    "data['bkeyword'] =data['answerB'].apply(get_longword, args = (1,))\n",
    "data['ckeyword'] =data['answerC'].apply(get_longword, args = (1,))\n",
    "data['dkeyword'] =data['answerD'].apply(get_longword, args = (1,))\n",
    "\n",
    "data['aavec'] = data['akeyword'].apply(get_avg_vec)\n",
    "data['bavec'] = data['bkeyword'].apply(get_avg_vec)\n",
    "data['cavec'] = data['ckeyword'].apply(get_avg_vec)\n",
    "data['davec'] = data['dkeyword'].apply(get_avg_vec)"
   ]
  },
  {
   "cell_type": "code",
   "execution_count": 151,
   "metadata": {
    "collapsed": false
   },
   "outputs": [],
   "source": [
    "data['aavec'] = data['answerA'].apply(get_avg_vec)\n",
    "data['bavec'] = data['answerB'].apply(get_avg_vec)\n",
    "data['cavec'] = data['answerC'].apply(get_avg_vec)\n",
    "data['davec'] = data['answerD'].apply(get_avg_vec)"
   ]
  },
  {
   "cell_type": "code",
   "execution_count": 152,
   "metadata": {
    "collapsed": false
   },
   "outputs": [],
   "source": [
    "data['pvec'] = data.qvec.apply(run_through_theta)"
   ]
  },
  {
   "cell_type": "code",
   "execution_count": 153,
   "metadata": {
    "collapsed": false,
    "scrolled": true
   },
   "outputs": [
    {
     "name": "stdout",
     "output_type": "stream",
     "text": [
      "returning C becuase no best cosine\n",
      "2\n",
      "[0.91083864667413383, 0.86769536778558765, 0.85237956112431912, 0.85237956112431912]\n",
      "0.852379561124\n",
      "returning C becuase no best cosine\n",
      "4\n",
      "[0.66321268371433473, 0.66321268371433473, 0.66321268371433473, 0.66321268371433473]\n",
      "0.663212683714\n",
      "returning C becuase no best cosine\n",
      "4\n",
      "[0.98343039705456836, 0.98343039705456836, 0.98343039705456836, 0.98343039705456836]\n",
      "0.983430397055\n",
      "returning C becuase no best cosine\n",
      "2\n",
      "[0.65485057611822106, 0.69121066223768102, 0.65557276765948469, 0.65485057611822106]\n",
      "0.654850576118\n",
      "returning C becuase no best cosine\n",
      "2\n",
      "[0.61075096046385546, 0.61075096046385546, 0.59567575426978692, 0.59567575426978692]\n",
      "0.59567575427\n",
      "returning C becuase no best cosine\n",
      "2\n",
      "[0.80971383126343266, 0.80971383126343266, 0.86611296077017941, nan]\n",
      "0.809713831263\n",
      "returning C becuase no best cosine\n",
      "2\n",
      "[0.89175419890918661, 0.91414324162014271, 0.91048146100569838, 0.89175419890918661]\n",
      "0.891754198909\n",
      "returning C becuase no best cosine\n",
      "4\n",
      "[0.90952176319195122, 0.90952176319195122, 0.90952176319195122, 0.90952176319195122]\n",
      "0.909521763192\n",
      "returning C becuase no best cosine\n",
      "4\n",
      "[0.62922520964370765, 0.62922520964370765, 0.62922520964370765, 0.62922520964370765]\n",
      "0.629225209644\n",
      "returning C becuase no best cosine\n",
      "2\n",
      "[0.77245271790443848, 0.77418846493873006, 0.73515812503899269, 0.73515812503899269]\n",
      "0.735158125039\n",
      "returning C becuase no best cosine\n",
      "2\n",
      "[0.93631209091645673, 0.8404264810271167, 0.8404264810271167, 0.89822896757773718]\n",
      "0.840426481027\n",
      "returning C becuase no best cosine\n",
      "2\n",
      "[0.57066369614383805, 0.54499897130711095, 0.54499897130711095, 0.65319672974847887]\n",
      "0.544998971307\n",
      "returning C becuase no best cosine\n",
      "2\n",
      "[0.75196786602743493, 0.86185106670150491, 0.57173028610888643, 0.57173028610888643]\n",
      "0.571730286109\n",
      "returning C becuase no best cosine\n",
      "4\n",
      "[0.85089033861643038, 0.85089033861643038, 0.85089033861643038, 0.85089033861643038]\n",
      "0.850890338616\n",
      "returning C becuase no best cosine\n",
      "2\n",
      "[0.71455252076628328, 0.71455252076628328, 0.77068895629109158, 0.73735612586324573]\n",
      "0.714552520766\n",
      "returning C becuase no best cosine\n",
      "2\n",
      "[0.783314896421902, 0.81987926257625832, 0.783314896421902, 0.99203593060077222]\n",
      "0.783314896422\n",
      "returning C becuase no best cosine\n",
      "3\n",
      "[0.71515512146146909, 0.71515512146146909, 0.71515512146146909, 0.7720558832551272]\n",
      "0.715155121461\n",
      "returning C becuase no best cosine\n",
      "2\n",
      "[0.90779853537331079, 0.75074486817955322, 1.0342962713763495, 0.75074486817955322]\n",
      "0.75074486818\n"
     ]
    }
   ],
   "source": [
    "data['closest_avec'] = data.apply(get_winner_from_avecs, axis=1)\n"
   ]
  },
  {
   "cell_type": "code",
   "execution_count": 155,
   "metadata": {
    "collapsed": true
   },
   "outputs": [],
   "source": [
    "sample = pd.read_csv('../input/sample_submission.csv')\n",
    "sample['correctAnswer'] = data['closest_avec']\n",
    "sample.to_csv('../output/qkeywd-5_theta-1000_a-e-100.csv', index=False)"
   ]
  },
  {
   "cell_type": "code",
   "execution_count": null,
   "metadata": {
    "collapsed": true
   },
   "outputs": [],
   "source": []
  }
 ],
 "metadata": {
  "kernelspec": {
   "display_name": "Python 3",
   "language": "python",
   "name": "python3"
  },
  "language_info": {
   "codemirror_mode": {
    "name": "ipython",
    "version": 3
   },
   "file_extension": ".py",
   "mimetype": "text/x-python",
   "name": "python",
   "nbconvert_exporter": "python",
   "pygments_lexer": "ipython3",
   "version": "3.4.3"
  }
 },
 "nbformat": 4,
 "nbformat_minor": 0
}
