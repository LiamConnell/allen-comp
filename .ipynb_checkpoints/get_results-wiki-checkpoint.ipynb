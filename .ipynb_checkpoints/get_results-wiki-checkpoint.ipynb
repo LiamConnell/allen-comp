{
 "cells": [
  {
   "cell_type": "code",
   "execution_count": 101,
   "metadata": {
    "collapsed": true
   },
   "outputs": [],
   "source": [
    "import time\n",
    "import pandas as pd\n",
    "from wikiapi import WikiApi\n",
    "wiki = WikiApi()\n",
    "import re\n",
    "from gensim.models import Word2Vec\n",
    "#import word2vec\n",
    "from scipy.spatial.distance import cosine\n",
    "import numpy as np\n",
    "import heapq\n",
    "import string\n"
   ]
  },
  {
   "cell_type": "code",
   "execution_count": 102,
   "metadata": {
    "collapsed": false
   },
   "outputs": [
    {
     "data": {
      "text/plain": [
       "'!\"#$%&\\'()*+,-./:;<=>?@[\\\\]^_`{|}~'"
      ]
     },
     "execution_count": 102,
     "metadata": {},
     "output_type": "execute_result"
    }
   ],
   "source": [
    "string.punctuation"
   ]
  },
  {
   "cell_type": "code",
   "execution_count": 134,
   "metadata": {
    "collapsed": true
   },
   "outputs": [],
   "source": [
    "\n",
    "\n",
    "def remove_punctuation(s):\n",
    "    exclude = set(string.punctuation)\n",
    "    s = ''.join(ch for ch in s if ch not in exclude)\n",
    "    return s\n",
    "#TODO: fix this or dont use\n",
    "def get_longword(s, n):\n",
    "    s = re.split(' ', s)\n",
    "    return heapq.nlargest(n, s, key=len)\n",
    "\n",
    "#TODO: make this work with one word/period\n",
    "def get_avg_vec(words):\n",
    "\ttry:\n",
    "\t\twords = re.split(' ', words)\n",
    "\texcept:\n",
    "\t\tpass\n",
    "\tnwords = 0\n",
    "\tfeatureVec = np.zeros((num_features,))#,dtype=\"float32\")\n",
    "\tfor word in words:\n",
    "\t\tif word in index2word_set:\n",
    "\t\t\tnwords = nwords + 1.\n",
    "\t\t\tfeatureVec = np.add(featureVec,model[word])\n",
    "\tif nwords > 0:\n",
    "\t\tfeatureVec = np.divide(featureVec,nwords)\n",
    "\treturn featureVec\n",
    "\n",
    "def get_tvec(row):\n",
    "    if row['correctAnswer'] == 'A':\n",
    "        a = row['aavec']\n",
    "        return a\n",
    "    elif row['correctAnswer'] == 'B':\n",
    "        a = row['bavec']\n",
    "        return a\n",
    "    elif row['correctAnswer'] == 'C':\n",
    "        a = row['cavec']\n",
    "        return a\n",
    "    elif row['correctAnswer'] == 'D':\n",
    "        a = row['davec']\n",
    "        return a\n",
    "    \n",
    "def run_through_theta(v):\n",
    "    return v.dot(theta.as_matrix())\n",
    "\n",
    "def get_winner_from_avecs(row):\n",
    "\ttry:\t\n",
    "\t\tdists = []\n",
    "\t\tfor col in row['answerA':'answerD']:\n",
    "\t\t#TODO: if 'not' in words: 1-avec\n",
    "\t\t\tavec = get_avg_vec(col)\n",
    "\t\t\t#if 'not' in re.split(' ',col):\n",
    "\t\t\t#\tavec = 1-avec\n",
    "\t\t\t#\tprint('NOT')\n",
    "\t\t\t#why nan errors?\n",
    "\t\t\tif sum(np.isfinite(avec)) < 300:\n",
    "\t\t\t\tprint('avec')\n",
    "\t\t\t\tprint(avec)\n",
    "\t\t\tif  sum(np.isfinite(row['pvec'])) < 300:\n",
    "\t\t\t\tprint('pvec')\n",
    "\t\t\t\tprint(row['pvec'])\n",
    "\t\t\tdist = cosine(avec, row['pvec'])\n",
    "\t\t\tdists.append(dist)\n",
    "\t\tm = np.nanmin(dists)\n",
    "\t\tbest = [i for i, j in enumerate(dists) if j == m]\n",
    "\t\tif best == [0]:\n",
    "\t\t\treturn 'A'\n",
    "\t\tif best == [1]:\n",
    "\n",
    "\t\t\treturn 'B'\n",
    "\t\tif best == [2]:\n",
    "\t\t\treturn 'C'\n",
    "\t\tif best == [3]:\n",
    "\t\t\treturn 'D'\n",
    "\t\telse:\n",
    "\t\t\tprint('returning C becuase no best cosine')\n",
    "\t\t\tprint(len(best))\n",
    "\t\t\tprint(dists)\n",
    "\t\t\tprint(m)\n",
    "\t\t\treturn 'C'\n",
    "\texcept:\n",
    "\t\tprint('some error, returning C')\n",
    "\t\treturn 'C'"
   ]
  },
  {
   "cell_type": "code",
   "execution_count": 3,
   "metadata": {
    "collapsed": false
   },
   "outputs": [
    {
     "name": "stdout",
     "output_type": "stream",
     "text": [
      "data gathered: 103.47626209259033\n"
     ]
    }
   ],
   "source": [
    "start = time.time()\n",
    "model = Word2Vec.load_word2vec_format('/Users/liamconnell/Downloads/GoogleNews-vectors-negative300.bin', binary = True)\n",
    "lap1 = time.time()\n",
    "print('data gathered: %s' % (lap1 - start))"
   ]
  },
  {
   "cell_type": "code",
   "execution_count": 4,
   "metadata": {
    "collapsed": true
   },
   "outputs": [],
   "source": [
    "index2word_set = set(model.index2word)\n",
    "num_features = 300"
   ]
  },
  {
   "cell_type": "code",
   "execution_count": 78,
   "metadata": {
    "collapsed": true
   },
   "outputs": [],
   "source": [
    "data  = pd.read_csv('../input/validation_set.tsv', '\\t')\n",
    "#theta = pd.read_csv('../input/theta_100-a_e-10.csv')"
   ]
  },
  {
   "cell_type": "code",
   "execution_count": 124,
   "metadata": {
    "collapsed": false
   },
   "outputs": [],
   "source": [
    "theta = pd.read_csv('../input/qkeywd_theta_100-a_e-10.csv')"
   ]
  },
  {
   "cell_type": "code",
   "execution_count": 129,
   "metadata": {
    "collapsed": true
   },
   "outputs": [],
   "source": [
    "theta = pd.DataFrame(np.identity(300))"
   ]
  },
  {
   "cell_type": "code",
   "execution_count": 114,
   "metadata": {
    "collapsed": false
   },
   "outputs": [],
   "source": [
    "data.question = data.question.apply(remove_punctuation)\n",
    "data.answerA = data.answerA.apply(remove_punctuation)\n",
    "data.answerB = data.answerB.apply(remove_punctuation)\n",
    "data.answerC = data.answerC.apply(remove_punctuation)\n",
    "data.answerD = data.answerD.apply(remove_punctuation)"
   ]
  },
  {
   "cell_type": "code",
   "execution_count": 145,
   "metadata": {
    "collapsed": false
   },
   "outputs": [],
   "source": [
    "data['keyword'] =data['question'].apply(get_longword, args = (5,))\n",
    "\n",
    "#I get to choose this\n",
    "data['qvec'] = data.keyword.apply(get_avg_vec) \n"
   ]
  },
  {
   "cell_type": "code",
   "execution_count": 138,
   "metadata": {
    "collapsed": true
   },
   "outputs": [],
   "source": [
    "pd.Series.apply?"
   ]
  },
  {
   "cell_type": "code",
   "execution_count": 146,
   "metadata": {
    "collapsed": true
   },
   "outputs": [],
   "source": [
    "#data['qvec'] = data.question.apply(get_avg_vec) \n",
    "data['akeyword'] =data['answerA'].apply(get_longword, args = (1,))\n",
    "data['bkeyword'] =data['answerB'].apply(get_longword, args = (1,))\n",
    "data['ckeyword'] =data['answerC'].apply(get_longword, args = (1,))\n",
    "data['dkeyword'] =data['answerD'].apply(get_longword, args = (1,))\n",
    "\n",
    "data['aavec'] = data['akeyword'].apply(get_avg_vec)\n",
    "data['bavec'] = data['bkeyword'].apply(get_avg_vec)\n",
    "data['cavec'] = data['ckeyword'].apply(get_avg_vec)\n",
    "data['davec'] = data['dkeyword'].apply(get_avg_vec)"
   ]
  },
  {
   "cell_type": "code",
   "execution_count": 116,
   "metadata": {
    "collapsed": false
   },
   "outputs": [],
   "source": [
    "data['aavec'] = data['answerA'].apply(get_avg_vec)\n",
    "data['bavec'] = data['answerB'].apply(get_avg_vec)\n",
    "data['cavec'] = data['answerC'].apply(get_avg_vec)\n",
    "data['davec'] = data['answerD'].apply(get_avg_vec)"
   ]
  },
  {
   "cell_type": "code",
   "execution_count": 147,
   "metadata": {
    "collapsed": false
   },
   "outputs": [],
   "source": [
    "data['pvec'] = data.qvec.apply(run_through_theta)"
   ]
  },
  {
   "cell_type": "code",
   "execution_count": 148,
   "metadata": {
    "collapsed": false,
    "scrolled": true
   },
   "outputs": [
    {
     "name": "stdout",
     "output_type": "stream",
     "text": [
      "returning C becuase no best cosine\n",
      "2\n",
      "[0.84942834337533668, 0.79890179809336481, 0.78811440911801678, 0.78811440911801678]\n",
      "0.788114409118\n",
      "returning C becuase no best cosine\n",
      "4\n",
      "[0.61918234499584568, 0.61918234499584568, 0.61918234499584568, 0.61918234499584568]\n",
      "0.619182344996\n",
      "returning C becuase no best cosine\n",
      "4\n",
      "[0.80366615191120905, 0.80366615191120905, 0.80366615191120905, 0.80366615191120905]\n",
      "0.803666151911\n",
      "returning C becuase no best cosine\n",
      "2\n",
      "[0.56045928089381603, 0.59903821753541031, 0.56921828220125681, 0.56045928089381603]\n",
      "0.560459280894\n",
      "returning C becuase no best cosine\n",
      "2\n",
      "[0.51666133606193632, 0.51666133606193632, 0.50278405908196999, 0.50278405908196999]\n",
      "0.502784059082\n",
      "returning C becuase no best cosine\n",
      "2\n",
      "[0.66170704241116551, 0.66170704241116551, 0.75538522586479662, nan]\n",
      "0.661707042411\n",
      "returning C becuase no best cosine\n",
      "2\n",
      "[0.69418024771873477, 0.72107753022496279, 0.71572344236698648, 0.69418024771873477]\n",
      "0.694180247719\n",
      "returning C becuase no best cosine\n",
      "4\n",
      "[0.74656366327652635, 0.74656366327652635, 0.74656366327652635, 0.74656366327652635]\n",
      "0.746563663277\n",
      "returning C becuase no best cosine\n",
      "4\n",
      "[0.53889122087629882, 0.53889122087629882, 0.53889122087629882, 0.53889122087629882]\n",
      "0.538891220876\n",
      "returning C becuase no best cosine\n",
      "2\n",
      "[0.63272139975866581, 0.63112156860579893, 0.57445024354891472, 0.57445024354891472]\n",
      "0.574450243549\n",
      "returning C becuase no best cosine\n",
      "2\n",
      "[0.82023603726365624, 0.69525043843582679, 0.69525043843582679, 0.76334347780329892]\n",
      "0.695250438436\n",
      "returning C becuase no best cosine\n",
      "2\n",
      "[0.4722848145125027, 0.43716426519747342, 0.43716426519747342, 0.53526814875438578]\n",
      "0.437164265197\n",
      "returning C becuase no best cosine\n",
      "2\n",
      "[0.66600298084081311, 0.76288101681945153, 0.47500841881569844, 0.47500841881569844]\n",
      "0.475008418816\n",
      "returning C becuase no best cosine\n",
      "4\n",
      "[0.70835909349975013, 0.70835909349975013, 0.70835909349975013, 0.70835909349975013]\n",
      "0.7083590935\n",
      "returning C becuase no best cosine\n",
      "2\n",
      "[0.56653196803755046, 0.56653196803755046, 0.6119810769803381, 0.58577508114982746]\n",
      "0.566531968038\n",
      "returning C becuase no best cosine\n",
      "2\n",
      "[0.68426137380110319, 0.73260212202587738, 0.68426137380110319, 0.86930137840556432]\n",
      "0.684261373801\n",
      "returning C becuase no best cosine\n",
      "3\n",
      "[0.57930073316753472, 0.57930073316753472, 0.57930073316753472, 0.62278855842155645]\n",
      "0.579300733168\n",
      "returning C becuase no best cosine\n",
      "2\n",
      "[0.82169295707065904, 0.61520887056597462, 0.98681467530477718, 0.61520887056597462]\n",
      "0.615208870566\n"
     ]
    }
   ],
   "source": [
    "data['closest_avec'] = data.apply(get_winner_from_avecs, axis=1)\n"
   ]
  },
  {
   "cell_type": "code",
   "execution_count": 149,
   "metadata": {
    "collapsed": true
   },
   "outputs": [],
   "source": [
    "sample = pd.read_csv('../input/sample_submission.csv')\n",
    "sample['correctAnswer'] = data['closest_avec']\n",
    "sample.to_csv('../output/qkeywd-5_theta-id.csv', index=False)"
   ]
  },
  {
   "cell_type": "code",
   "execution_count": null,
   "metadata": {
    "collapsed": true
   },
   "outputs": [],
   "source": []
  }
 ],
 "metadata": {
  "kernelspec": {
   "display_name": "Python 3",
   "language": "python",
   "name": "python3"
  },
  "language_info": {
   "codemirror_mode": {
    "name": "ipython",
    "version": 3
   },
   "file_extension": ".py",
   "mimetype": "text/x-python",
   "name": "python",
   "nbconvert_exporter": "python",
   "pygments_lexer": "ipython3",
   "version": "3.4.3"
  }
 },
 "nbformat": 4,
 "nbformat_minor": 0
}
