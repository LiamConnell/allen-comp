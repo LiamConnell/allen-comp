{
 "cells": [
  {
   "cell_type": "code",
   "execution_count": 1,
   "metadata": {
    "collapsed": true
   },
   "outputs": [],
   "source": [
    "import time\n",
    "import pandas as pd\n",
    "from wikiapi import WikiApi\n",
    "wiki = WikiApi()\n",
    "import re\n",
    "from gensim.models import Word2Vec\n",
    "#import word2vec\n",
    "from scipy.spatial.distance import cosine\n",
    "import numpy as np\n",
    "import heapq\n",
    "import string\n"
   ]
  },
  {
   "cell_type": "code",
   "execution_count": 85,
   "metadata": {
    "collapsed": true
   },
   "outputs": [],
   "source": [
    "def remove_punctuation(s):\n",
    "    exclude = set(string.punctuation)\n",
    "    s = ''.join(ch for ch in s if ch not in exclude)\n",
    "    return s\n",
    "#TODO: fix this or dont use\n",
    "def get_longword(s, n):\n",
    "    s = re.split(' ', s)\n",
    "    return heapq.nlargest(n, s, key=len)\n",
    "\n",
    "#TODO: make this work with one word/period\n",
    "def get_avg_vec(words):\n",
    "\ttry:\n",
    "\t\twords = re.split(' ', words)\n",
    "\texcept:\n",
    "\t\tpass\n",
    "\tnwords = 0\n",
    "\tfeatureVec = np.zeros((num_features,))#,dtype=\"float32\")\n",
    "\tfor word in words:\n",
    "\t\tif word in index2word_set:\n",
    "\t\t\tnwords = nwords + 1.\n",
    "\t\t\tfeatureVec = np.add(featureVec,model[word])\n",
    "\tif nwords > 0:\n",
    "\t\tfeatureVec = np.divide(featureVec,nwords)\n",
    "\treturn featureVec\n",
    "\n",
    "def get_tvec(row):\n",
    "    if row['correctAnswer'] == 'A':\n",
    "        a = row['aavec']\n",
    "        return a\n",
    "    elif row['correctAnswer'] == 'B':\n",
    "        a = row['bavec']\n",
    "        return a\n",
    "    elif row['correctAnswer'] == 'C':\n",
    "        a = row['cavec']\n",
    "        return a\n",
    "    elif row['correctAnswer'] == 'D':\n",
    "        a = row['davec']\n",
    "        return a\n",
    "    \n",
    "def run_through_theta(v):\n",
    "    return v.dot(theta.as_matrix())\n",
    "\n",
    "def get_winner_from_avecs(row):\n",
    "\ttry:\t\n",
    "\t\tdists = []\n",
    "\t\tfor col in row['answerA':'answerD']:\n",
    "\t\t#TODO: if 'not' in words: 1-avec\n",
    "\t\t\tavec = get_avg_vec(col)\n",
    "\t\t\t#if 'not' in re.split(' ',col):\n",
    "\t\t\t#\tavec = 1-avec\n",
    "\t\t\t#\tprint('NOT')\n",
    "\t\t\t#why nan errors?\n",
    "\t\t\tif sum(np.isfinite(avec)) < 300:\n",
    "\t\t\t\tprint('avec')\n",
    "\t\t\t\tprint(avec)\n",
    "\t\t\tif  sum(np.isfinite(row['pvec'])) < 300:\n",
    "\t\t\t\tprint('pvec')\n",
    "\t\t\t\tprint(row['pvec'])\n",
    "\t\t\tdist = cosine(avec, row['pvec'])\n",
    "\t\t\tdists.append(dist)\n",
    "\t\tm = np.nanmin(dists)\n",
    "\t\tbest = [i for i, j in enumerate(dists) if j == m]\n",
    "\t\tif best == [0]:\n",
    "\t\t\treturn 'A', m, dists\n",
    "\t\tif best == [1]:\n",
    "\n",
    "\t\t\treturn 'B' ,m, dists\n",
    "\t\tif best == [2]:\n",
    "\t\t\treturn 'C' , m, dists\n",
    "\t\tif best == [3]:\n",
    "\t\t\treturn 'D', m, dists\n",
    "\t\telse:\n",
    "\t\t\tprint('returning C becuase no best cosine')\n",
    "\t\t\tprint(len(best))\n",
    "\t\t\tprint(dists)\n",
    "\t\t\tprint(m)\n",
    "\t\t\treturn 'C', m, dists\n",
    "\texcept:\n",
    "\t\tprint('some error, returning C')\n",
    "\t\treturn 'C'"
   ]
  },
  {
   "cell_type": "code",
   "execution_count": 3,
   "metadata": {
    "collapsed": false
   },
   "outputs": [
    {
     "name": "stdout",
     "output_type": "stream",
     "text": [
      "data gathered: 132.5608139038086\n"
     ]
    }
   ],
   "source": [
    "start = time.time()\n",
    "model = Word2Vec.load_word2vec_format('/Users/liamconnell/Downloads/GoogleNews-vectors-negative300.bin', binary = True)\n",
    "lap1 = time.time()\n",
    "print('data gathered: %s' % (lap1 - start))"
   ]
  },
  {
   "cell_type": "code",
   "execution_count": 4,
   "metadata": {
    "collapsed": true
   },
   "outputs": [],
   "source": [
    "index2word_set = set(model.index2word)\n",
    "num_features = 300"
   ]
  },
  {
   "cell_type": "code",
   "execution_count": 20,
   "metadata": {
    "collapsed": true
   },
   "outputs": [],
   "source": [
    "data = pd.read_csv('../input/training_set.tsv', '\\t')\n",
    "#data  = pd.read_csv('../input/validation_set.tsv', '\\t')\n",
    "#theta = pd.read_csv('../input/theta_100-a_e-10.csv')"
   ]
  },
  {
   "cell_type": "code",
   "execution_count": 21,
   "metadata": {
    "collapsed": false
   },
   "outputs": [],
   "source": [
    "data.question = data.question.apply(remove_punctuation)\n",
    "data.answerA = data.answerA.apply(remove_punctuation)\n",
    "data.answerB = data.answerB.apply(remove_punctuation)\n",
    "data.answerC = data.answerC.apply(remove_punctuation)\n",
    "data.answerD = data.answerD.apply(remove_punctuation)"
   ]
  },
  {
   "cell_type": "code",
   "execution_count": 24,
   "metadata": {
    "collapsed": true
   },
   "outputs": [],
   "source": [
    "data_full = data.copy()\n",
    "data = data_full[:2000]"
   ]
  },
  {
   "cell_type": "code",
   "execution_count": 124,
   "metadata": {
    "collapsed": false
   },
   "outputs": [],
   "source": [
    "#theta = pd.read_csv('../input/qkeywd_theta_100-a_e-10.csv')"
   ]
  },
  {
   "cell_type": "code",
   "execution_count": 27,
   "metadata": {
    "collapsed": true
   },
   "outputs": [],
   "source": [
    "theta = pd.DataFrame(np.identity(300))"
   ]
  },
  {
   "cell_type": "code",
   "execution_count": 25,
   "metadata": {
    "collapsed": false
   },
   "outputs": [
    {
     "name": "stderr",
     "output_type": "stream",
     "text": [
      "/Users/liamconnell/anaconda/lib/python3.4/site-packages/IPython/kernel/__main__.py:1: SettingWithCopyWarning: \n",
      "A value is trying to be set on a copy of a slice from a DataFrame.\n",
      "Try using .loc[row_indexer,col_indexer] = value instead\n",
      "\n",
      "See the the caveats in the documentation: http://pandas.pydata.org/pandas-docs/stable/indexing.html#indexing-view-versus-copy\n",
      "  if __name__ == '__main__':\n",
      "/Users/liamconnell/anaconda/lib/python3.4/site-packages/IPython/kernel/__main__.py:4: SettingWithCopyWarning: \n",
      "A value is trying to be set on a copy of a slice from a DataFrame.\n",
      "Try using .loc[row_indexer,col_indexer] = value instead\n",
      "\n",
      "See the the caveats in the documentation: http://pandas.pydata.org/pandas-docs/stable/indexing.html#indexing-view-versus-copy\n"
     ]
    }
   ],
   "source": [
    "data['keyword'] =data['question'].apply(get_longword, args = (5,))\n",
    "\n",
    "#I get to choose this\n",
    "data['qvec'] = data.keyword.apply(get_avg_vec) \n"
   ]
  },
  {
   "cell_type": "code",
   "execution_count": 146,
   "metadata": {
    "collapsed": true
   },
   "outputs": [],
   "source": [
    "#data['qvec'] = data.question.apply(get_avg_vec) \n",
    "data['akeyword'] =data['answerA'].apply(get_longword, args = (1,))\n",
    "data['bkeyword'] =data['answerB'].apply(get_longword, args = (1,))\n",
    "data['ckeyword'] =data['answerC'].apply(get_longword, args = (1,))\n",
    "data['dkeyword'] =data['answerD'].apply(get_longword, args = (1,))\n",
    "\n",
    "data['aavec'] = data['akeyword'].apply(get_avg_vec)\n",
    "data['bavec'] = data['bkeyword'].apply(get_avg_vec)\n",
    "data['cavec'] = data['ckeyword'].apply(get_avg_vec)\n",
    "data['davec'] = data['dkeyword'].apply(get_avg_vec)"
   ]
  },
  {
   "cell_type": "code",
   "execution_count": 26,
   "metadata": {
    "collapsed": false
   },
   "outputs": [
    {
     "name": "stderr",
     "output_type": "stream",
     "text": [
      "/Users/liamconnell/anaconda/lib/python3.4/site-packages/IPython/kernel/__main__.py:1: SettingWithCopyWarning: \n",
      "A value is trying to be set on a copy of a slice from a DataFrame.\n",
      "Try using .loc[row_indexer,col_indexer] = value instead\n",
      "\n",
      "See the the caveats in the documentation: http://pandas.pydata.org/pandas-docs/stable/indexing.html#indexing-view-versus-copy\n",
      "  if __name__ == '__main__':\n",
      "/Users/liamconnell/anaconda/lib/python3.4/site-packages/IPython/kernel/__main__.py:2: SettingWithCopyWarning: \n",
      "A value is trying to be set on a copy of a slice from a DataFrame.\n",
      "Try using .loc[row_indexer,col_indexer] = value instead\n",
      "\n",
      "See the the caveats in the documentation: http://pandas.pydata.org/pandas-docs/stable/indexing.html#indexing-view-versus-copy\n",
      "  from IPython.kernel.zmq import kernelapp as app\n",
      "/Users/liamconnell/anaconda/lib/python3.4/site-packages/IPython/kernel/__main__.py:3: SettingWithCopyWarning: \n",
      "A value is trying to be set on a copy of a slice from a DataFrame.\n",
      "Try using .loc[row_indexer,col_indexer] = value instead\n",
      "\n",
      "See the the caveats in the documentation: http://pandas.pydata.org/pandas-docs/stable/indexing.html#indexing-view-versus-copy\n",
      "  app.launch_new_instance()\n",
      "/Users/liamconnell/anaconda/lib/python3.4/site-packages/IPython/kernel/__main__.py:4: SettingWithCopyWarning: \n",
      "A value is trying to be set on a copy of a slice from a DataFrame.\n",
      "Try using .loc[row_indexer,col_indexer] = value instead\n",
      "\n",
      "See the the caveats in the documentation: http://pandas.pydata.org/pandas-docs/stable/indexing.html#indexing-view-versus-copy\n"
     ]
    }
   ],
   "source": [
    "data['aavec'] = data['answerA'].apply(get_avg_vec)\n",
    "data['bavec'] = data['answerB'].apply(get_avg_vec)\n",
    "data['cavec'] = data['answerC'].apply(get_avg_vec)\n",
    "data['davec'] = data['answerD'].apply(get_avg_vec)"
   ]
  },
  {
   "cell_type": "code",
   "execution_count": 28,
   "metadata": {
    "collapsed": false
   },
   "outputs": [
    {
     "name": "stderr",
     "output_type": "stream",
     "text": [
      "/Users/liamconnell/anaconda/lib/python3.4/site-packages/IPython/kernel/__main__.py:1: SettingWithCopyWarning: \n",
      "A value is trying to be set on a copy of a slice from a DataFrame.\n",
      "Try using .loc[row_indexer,col_indexer] = value instead\n",
      "\n",
      "See the the caveats in the documentation: http://pandas.pydata.org/pandas-docs/stable/indexing.html#indexing-view-versus-copy\n",
      "  if __name__ == '__main__':\n"
     ]
    }
   ],
   "source": [
    "data['pvec'] = data.qvec.apply(run_through_theta)"
   ]
  },
  {
   "cell_type": "code",
   "execution_count": 86,
   "metadata": {
    "collapsed": false,
    "scrolled": true
   },
   "outputs": [
    {
     "name": "stdout",
     "output_type": "stream",
     "text": [
      "returning C becuase no best cosine\n",
      "4\n",
      "[0.61409244070064983, 0.61409244070064983, 0.61409244070064983, 0.61409244070064983]\n",
      "0.614092440701\n",
      "returning C becuase no best cosine\n",
      "2\n",
      "[0.83706870344266837, 0.88607881670466182, 0.83706870344266837, 0.88607881670466182]\n",
      "0.837068703443\n",
      "returning C becuase no best cosine\n",
      "4\n",
      "[0.75547675131548597, 0.75547675131548597, 0.75547675131548597, 0.75547675131548597]\n",
      "0.755476751315\n",
      "returning C becuase no best cosine\n",
      "2\n",
      "[0.4062484245604322, 0.42175795990451315, 0.42175795990451315, 0.4062484245604322]\n",
      "0.40624842456\n",
      "returning C becuase no best cosine\n",
      "2\n",
      "[0.52525205085788063, 0.52525205085788063, 0.58484763437827947, 0.53998686886397407]\n",
      "0.525252050858\n",
      "returning C becuase no best cosine\n",
      "2\n",
      "[0.5113047264668642, 0.53417197715656362, 0.29634133758760273, 0.29634133758760273]\n",
      "0.296341337588\n",
      "returning C becuase no best cosine\n",
      "2\n",
      "[0.55914201813483377, 0.48895236352320237, 0.55914201813483377, 0.48895236352320237]\n",
      "0.488952363523\n",
      "returning C becuase no best cosine\n",
      "4\n",
      "[0.56826138621173361, 0.56826138621173361, 0.56826138621173361, 0.56826138621173361]\n",
      "0.568261386212\n",
      "returning C becuase no best cosine\n",
      "4\n",
      "[0.80320741965649656, 0.80320741965649656, 0.80320741965649656, 0.80320741965649656]\n",
      "0.803207419656\n",
      "returning C becuase no best cosine\n",
      "2\n",
      "[0.28610912654059095, 0.28610912654059095, 0.29689173004510971, 0.29689173004510971]\n",
      "0.286109126541\n",
      "returning C becuase no best cosine\n",
      "2\n",
      "[0.63116851477736824, 0.78571340801351386, 0.7179184908730184, 0.63116851477736824]\n",
      "0.631168514777\n",
      "returning C becuase no best cosine\n",
      "4\n",
      "[0.93268024561456708, 0.93268024561456708, 0.93268024561456708, 0.93268024561456708]\n",
      "0.932680245615\n",
      "returning C becuase no best cosine\n",
      "2\n",
      "[0.56203939058468877, 0.56203939058468877, 0.53665107123882527, 0.53665107123882527]\n",
      "0.536651071239\n",
      "returning C becuase no best cosine\n",
      "4\n",
      "[0.48970805514555982, 0.48970805514555982, 0.48970805514555982, 0.48970805514555982]\n",
      "0.489708055146\n",
      "returning C becuase no best cosine\n",
      "4\n",
      "[0.71792879594034886, 0.71792879594034886, 0.71792879594034886, 0.71792879594034886]\n",
      "0.71792879594\n",
      "returning C becuase no best cosine\n",
      "2\n",
      "[0.86427935476505169, 0.8451196864615087, 0.83517342393459959, 0.83517342393459959]\n",
      "0.835173423935\n",
      "returning C becuase no best cosine\n",
      "2\n",
      "[0.70118509060272771, 0.68005924448664912, 0.68005924448664912, 0.6894475200541772]\n",
      "0.680059244487\n",
      "returning C becuase no best cosine\n",
      "2\n",
      "[0.47563287981383218, 0.44617784853783971, 0.47563287981383218, 0.44617784853783971]\n",
      "0.446177848538\n",
      "returning C becuase no best cosine\n",
      "4\n",
      "[0.56472215870986253, 0.56472215870986253, 0.56472215870986253, 0.56472215870986253]\n",
      "0.56472215871\n",
      "returning C becuase no best cosine\n",
      "2\n",
      "[0.7043603689449105, 0.7043603689449105, 0.60169443304608305, 0.60169443304608305]\n",
      "0.601694433046\n",
      "returning C becuase no best cosine\n",
      "2\n",
      "[0.6885084928284706, 0.68090033843547104, 0.67751541589463082, 0.67751541589463082]\n",
      "0.677515415895\n",
      "returning C becuase no best cosine\n",
      "2\n",
      "[0.50275839419744905, 0.50275839419744905, 0.5218960151367007, 0.5218960151367007]\n",
      "0.502758394197\n",
      "returning C becuase no best cosine\n",
      "2\n",
      "[0.8181705517372645, 0.85171018452663216, 0.8181705517372645, 0.85171018452663216]\n",
      "0.818170551737\n",
      "returning C becuase no best cosine\n",
      "2\n",
      "[0.42392754465330451, 0.42392754465330451, 0.44155335490202197, 0.44155335490202197]\n",
      "0.423927544653\n",
      "returning C becuase no best cosine\n",
      "4\n",
      "[0.7149506473823648, 0.7149506473823648, 0.7149506473823648, 0.7149506473823648]\n",
      "0.714950647382\n",
      "returning C becuase no best cosine\n",
      "2\n",
      "[0.71937971838481518, 0.72166868048159505, 0.71432954457663023, 0.71432954457663023]\n",
      "0.714329544577\n",
      "returning C becuase no best cosine\n",
      "2\n",
      "[0.64106579179320056, 0.64106579179320056, 0.69038537261586796, 0.69038537261586796]\n",
      "0.641065791793\n",
      "returning C becuase no best cosine\n",
      "2\n",
      "[0.61822847462192865, 0.68859007798955918, 0.66675842243240091, 0.61822847462192865]\n",
      "0.618228474622\n",
      "returning C becuase no best cosine\n",
      "2\n",
      "[0.77035096126970526, 0.75848188522317983, 0.7408284479627919, 0.7408284479627919]\n",
      "0.740828447963\n",
      "returning C becuase no best cosine\n",
      "2\n",
      "[0.72324188379792353, 0.81279741891434742, 0.79196293066207624, 0.72324188379792353]\n",
      "0.723241883798\n",
      "returning C becuase no best cosine\n",
      "2\n",
      "[0.79254473813023196, 0.79254473813023196, 0.77741995624463256, 0.77741995624463256]\n",
      "0.777419956245\n",
      "returning C becuase no best cosine\n",
      "2\n",
      "[0.65238227652715852, 0.65238227652715852, 0.67643322316577592, 0.67322991940936761]\n",
      "0.652382276527\n",
      "returning C becuase no best cosine\n",
      "2\n",
      "[0.75031673809750177, 0.7572807241150481, 0.75333345240981964, 0.75031673809750177]\n",
      "0.750316738098\n",
      "returning C becuase no best cosine"
     ]
    },
    {
     "name": "stderr",
     "output_type": "stream",
     "text": [
      "/Users/liamconnell/anaconda/lib/python3.4/site-packages/numpy/lib/nanfunctions.py:227: RuntimeWarning: All-NaN axis encountered\n",
      "  warnings.warn(\"All-NaN axis encountered\", RuntimeWarning)\n",
      "/Users/liamconnell/anaconda/lib/python3.4/site-packages/IPython/kernel/__main__.py:1: SettingWithCopyWarning: \n",
      "A value is trying to be set on a copy of a slice from a DataFrame.\n",
      "Try using .loc[row_indexer,col_indexer] = value instead\n",
      "\n",
      "See the the caveats in the documentation: http://pandas.pydata.org/pandas-docs/stable/indexing.html#indexing-view-versus-copy\n",
      "  if __name__ == '__main__':\n"
     ]
    },
    {
     "name": "stdout",
     "output_type": "stream",
     "text": [
      "\n",
      "0\n",
      "[nan, nan, nan, nan]\n",
      "nan\n"
     ]
    }
   ],
   "source": [
    "data['closest_avec'] = data.apply(get_winner_from_avecs, axis=1)\n"
   ]
  },
  {
   "cell_type": "code",
   "execution_count": null,
   "metadata": {
    "collapsed": true
   },
   "outputs": [],
   "source": []
  },
  {
   "cell_type": "code",
   "execution_count": 87,
   "metadata": {
    "collapsed": false
   },
   "outputs": [
    {
     "name": "stderr",
     "output_type": "stream",
     "text": [
      "/Users/liamconnell/anaconda/lib/python3.4/site-packages/IPython/kernel/__main__.py:1: SettingWithCopyWarning: \n",
      "A value is trying to be set on a copy of a slice from a DataFrame.\n",
      "Try using .loc[row_indexer,col_indexer] = value instead\n",
      "\n",
      "See the the caveats in the documentation: http://pandas.pydata.org/pandas-docs/stable/indexing.html#indexing-view-versus-copy\n",
      "  if __name__ == '__main__':\n",
      "/Users/liamconnell/anaconda/lib/python3.4/site-packages/IPython/kernel/__main__.py:2: SettingWithCopyWarning: \n",
      "A value is trying to be set on a copy of a slice from a DataFrame.\n",
      "Try using .loc[row_indexer,col_indexer] = value instead\n",
      "\n",
      "See the the caveats in the documentation: http://pandas.pydata.org/pandas-docs/stable/indexing.html#indexing-view-versus-copy\n",
      "  from IPython.kernel.zmq import kernelapp as app\n",
      "/Users/liamconnell/anaconda/lib/python3.4/site-packages/IPython/kernel/__main__.py:3: SettingWithCopyWarning: \n",
      "A value is trying to be set on a copy of a slice from a DataFrame.\n",
      "Try using .loc[row_indexer,col_indexer] = value instead\n",
      "\n",
      "See the the caveats in the documentation: http://pandas.pydata.org/pandas-docs/stable/indexing.html#indexing-view-versus-copy\n",
      "  app.launch_new_instance()\n"
     ]
    }
   ],
   "source": [
    "data['avec_dist'] = [x[1] for x in data['closest_avec']]\n",
    "data['dists'] = [x[2] for x in data['closest_avec']]\n",
    "data['closest_avec'] = [x[0] for x in data['closest_avec']]"
   ]
  },
  {
   "cell_type": "code",
   "execution_count": 88,
   "metadata": {
    "collapsed": false
   },
   "outputs": [
    {
     "data": {
      "text/html": [
       "<div>\n",
       "<table border=\"1\" class=\"dataframe\">\n",
       "  <thead>\n",
       "    <tr style=\"text-align: right;\">\n",
       "      <th></th>\n",
       "      <th>id</th>\n",
       "      <th>question</th>\n",
       "      <th>correctAnswer</th>\n",
       "      <th>answerA</th>\n",
       "      <th>answerB</th>\n",
       "      <th>answerC</th>\n",
       "      <th>answerD</th>\n",
       "      <th>keyword</th>\n",
       "      <th>qvec</th>\n",
       "      <th>aavec</th>\n",
       "      <th>bavec</th>\n",
       "      <th>cavec</th>\n",
       "      <th>davec</th>\n",
       "      <th>pvec</th>\n",
       "      <th>closest_avec</th>\n",
       "      <th>avec_dist</th>\n",
       "      <th>dists</th>\n",
       "    </tr>\n",
       "  </thead>\n",
       "  <tbody>\n",
       "    <tr>\n",
       "      <th>0</th>\n",
       "      <td>100001</td>\n",
       "      <td>When athletes begin to exercise their heart ra...</td>\n",
       "      <td>C</td>\n",
       "      <td>at the tissue level</td>\n",
       "      <td>at the organ level</td>\n",
       "      <td>at the system level</td>\n",
       "      <td>at the cellular level</td>\n",
       "      <td>[organization, respiration, coordinate, functi...</td>\n",
       "      <td>[-0.0110091024078, -0.0100927315652, 0.0118642...</td>\n",
       "      <td>[-0.0238057915121, 0.0379851613252, 0.02094733...</td>\n",
       "      <td>[0.00312668271363, 0.0361639507173, 0.03165539...</td>\n",
       "      <td>[-0.0068761670118, 0.00266937763081, 0.0359292...</td>\n",
       "      <td>[-0.018154588528, 0.00685427189455, 0.02011204...</td>\n",
       "      <td>[-0.0110091024078, -0.0100927315652, 0.0118642...</td>\n",
       "      <td>B</td>\n",
       "      <td>0.673600</td>\n",
       "      <td>[0.679835183902, 0.673599518912, 0.67691867520...</td>\n",
       "    </tr>\n",
       "    <tr>\n",
       "      <th>1</th>\n",
       "      <td>100002</td>\n",
       "      <td>Which example describes a learned behavior in ...</td>\n",
       "      <td>C</td>\n",
       "      <td>smelling the air for odors</td>\n",
       "      <td>barking when disturbed</td>\n",
       "      <td>sitting on command</td>\n",
       "      <td>digging in soil</td>\n",
       "      <td>[describes, behavior, example, learned, Which]</td>\n",
       "      <td>[0.0217765471898, 0.0255097200454, 0.008364850...</td>\n",
       "      <td>[0.0060222543776, 0.0450306221843, 0.036857781...</td>\n",
       "      <td>[0.0266252082462, 0.0278478353284, 0.056401307...</td>\n",
       "      <td>[0.0628858444591, 0.0293218505879, -0.00048844...</td>\n",
       "      <td>[0.000976153183728, 0.102384696404, 0.05785200...</td>\n",
       "      <td>[0.0217765471898, 0.0255097200454, 0.008364850...</td>\n",
       "      <td>B</td>\n",
       "      <td>0.706429</td>\n",
       "      <td>[0.72445609405, 0.706428517086, 0.813424001565...</td>\n",
       "    </tr>\n",
       "    <tr>\n",
       "      <th>2</th>\n",
       "      <td>100003</td>\n",
       "      <td>When two nuclei are combined into one nucleus ...</td>\n",
       "      <td>D</td>\n",
       "      <td>conversion</td>\n",
       "      <td>reaction</td>\n",
       "      <td>fission</td>\n",
       "      <td>fusion</td>\n",
       "      <td>[combined, nucleus, release, process, nuclei]</td>\n",
       "      <td>[0.0108336833306, 0.0333348739892, 0.023148844...</td>\n",
       "      <td>[0.0507117174566, 0.0424134396017, -0.03995468...</td>\n",
       "      <td>[0.0267807710916, -0.044231466949, 0.021424615...</td>\n",
       "      <td>[-0.0163884609938, 0.110206462443, 0.057715885...</td>\n",
       "      <td>[-0.0258576832712, 0.00056411215337, 0.1105863...</td>\n",
       "      <td>[0.0108336833306, 0.0333348739892, 0.023148844...</td>\n",
       "      <td>C</td>\n",
       "      <td>0.642293</td>\n",
       "      <td>[0.751297557367, 0.776472954065, 0.64229285003...</td>\n",
       "    </tr>\n",
       "    <tr>\n",
       "      <th>3</th>\n",
       "      <td>100004</td>\n",
       "      <td>Which is a distinction between an epidemic and...</td>\n",
       "      <td>B</td>\n",
       "      <td>the symptoms of the disease</td>\n",
       "      <td>the geographical area affected</td>\n",
       "      <td>the species of organisms infected</td>\n",
       "      <td>the season in which the disease spreads</td>\n",
       "      <td>[distinction, epidemic, pandemic, between, Which]</td>\n",
       "      <td>[0.0247666956857, -0.0448009822518, 0.03648750...</td>\n",
       "      <td>[0.0318868728355, 0.0791146988049, 0.005927199...</td>\n",
       "      <td>[0.00613054377027, 0.0375126583094, 0.03082738...</td>\n",
       "      <td>[0.0524637203198, 0.0690871905535, 0.019288309...</td>\n",
       "      <td>[0.0286547437842, 0.0684509586011, 0.014039928...</td>\n",
       "      <td>[0.0247666956857, -0.0448009822518, 0.03648750...</td>\n",
       "      <td>D</td>\n",
       "      <td>0.538173</td>\n",
       "      <td>[0.570070366424, 0.670986934765, 0.58689460915...</td>\n",
       "    </tr>\n",
       "    <tr>\n",
       "      <th>4</th>\n",
       "      <td>100005</td>\n",
       "      <td>In which way is the orbit of a comet different...</td>\n",
       "      <td>B</td>\n",
       "      <td>The orbit of Earth is less circular than the o...</td>\n",
       "      <td>The orbit of a comet is more elliptical than t...</td>\n",
       "      <td>The orbital period of Earth is much longer tha...</td>\n",
       "      <td>The orbital period of a comet is more predicta...</td>\n",
       "      <td>[different, which, orbit, comet, orbit]</td>\n",
       "      <td>[-0.0375164592639, 0.0500212982297, -0.0044289...</td>\n",
       "      <td>[-0.0193325725151, 0.0319935237989, 0.01037893...</td>\n",
       "      <td>[-0.0136844753055, 0.0258356835693, 0.00623919...</td>\n",
       "      <td>[-0.0191408267516, 0.0189409650241, 0.00248521...</td>\n",
       "      <td>[-0.0147934632647, 0.0120618290578, 0.00216321...</td>\n",
       "      <td>[-0.0375164592639, 0.0500212982297, -0.0044289...</td>\n",
       "      <td>B</td>\n",
       "      <td>0.209713</td>\n",
       "      <td>[0.210562819276, 0.209712559749, 0.34429267593...</td>\n",
       "    </tr>\n",
       "  </tbody>\n",
       "</table>\n",
       "</div>"
      ],
      "text/plain": [
       "       id                                           question correctAnswer  \\\n",
       "0  100001  When athletes begin to exercise their heart ra...             C   \n",
       "1  100002  Which example describes a learned behavior in ...             C   \n",
       "2  100003  When two nuclei are combined into one nucleus ...             D   \n",
       "3  100004  Which is a distinction between an epidemic and...             B   \n",
       "4  100005  In which way is the orbit of a comet different...             B   \n",
       "\n",
       "                                             answerA  \\\n",
       "0                                at the tissue level   \n",
       "1                         smelling the air for odors   \n",
       "2                                         conversion   \n",
       "3                        the symptoms of the disease   \n",
       "4  The orbit of Earth is less circular than the o...   \n",
       "\n",
       "                                             answerB  \\\n",
       "0                                 at the organ level   \n",
       "1                             barking when disturbed   \n",
       "2                                           reaction   \n",
       "3                     the geographical area affected   \n",
       "4  The orbit of a comet is more elliptical than t...   \n",
       "\n",
       "                                             answerC  \\\n",
       "0                                at the system level   \n",
       "1                                 sitting on command   \n",
       "2                                            fission   \n",
       "3                  the species of organisms infected   \n",
       "4  The orbital period of Earth is much longer tha...   \n",
       "\n",
       "                                             answerD  \\\n",
       "0                              at the cellular level   \n",
       "1                                    digging in soil   \n",
       "2                                             fusion   \n",
       "3            the season in which the disease spreads   \n",
       "4  The orbital period of a comet is more predicta...   \n",
       "\n",
       "                                             keyword  \\\n",
       "0  [organization, respiration, coordinate, functi...   \n",
       "1     [describes, behavior, example, learned, Which]   \n",
       "2      [combined, nucleus, release, process, nuclei]   \n",
       "3  [distinction, epidemic, pandemic, between, Which]   \n",
       "4            [different, which, orbit, comet, orbit]   \n",
       "\n",
       "                                                qvec  \\\n",
       "0  [-0.0110091024078, -0.0100927315652, 0.0118642...   \n",
       "1  [0.0217765471898, 0.0255097200454, 0.008364850...   \n",
       "2  [0.0108336833306, 0.0333348739892, 0.023148844...   \n",
       "3  [0.0247666956857, -0.0448009822518, 0.03648750...   \n",
       "4  [-0.0375164592639, 0.0500212982297, -0.0044289...   \n",
       "\n",
       "                                               aavec  \\\n",
       "0  [-0.0238057915121, 0.0379851613252, 0.02094733...   \n",
       "1  [0.0060222543776, 0.0450306221843, 0.036857781...   \n",
       "2  [0.0507117174566, 0.0424134396017, -0.03995468...   \n",
       "3  [0.0318868728355, 0.0791146988049, 0.005927199...   \n",
       "4  [-0.0193325725151, 0.0319935237989, 0.01037893...   \n",
       "\n",
       "                                               bavec  \\\n",
       "0  [0.00312668271363, 0.0361639507173, 0.03165539...   \n",
       "1  [0.0266252082462, 0.0278478353284, 0.056401307...   \n",
       "2  [0.0267807710916, -0.044231466949, 0.021424615...   \n",
       "3  [0.00613054377027, 0.0375126583094, 0.03082738...   \n",
       "4  [-0.0136844753055, 0.0258356835693, 0.00623919...   \n",
       "\n",
       "                                               cavec  \\\n",
       "0  [-0.0068761670118, 0.00266937763081, 0.0359292...   \n",
       "1  [0.0628858444591, 0.0293218505879, -0.00048844...   \n",
       "2  [-0.0163884609938, 0.110206462443, 0.057715885...   \n",
       "3  [0.0524637203198, 0.0690871905535, 0.019288309...   \n",
       "4  [-0.0191408267516, 0.0189409650241, 0.00248521...   \n",
       "\n",
       "                                               davec  \\\n",
       "0  [-0.018154588528, 0.00685427189455, 0.02011204...   \n",
       "1  [0.000976153183728, 0.102384696404, 0.05785200...   \n",
       "2  [-0.0258576832712, 0.00056411215337, 0.1105863...   \n",
       "3  [0.0286547437842, 0.0684509586011, 0.014039928...   \n",
       "4  [-0.0147934632647, 0.0120618290578, 0.00216321...   \n",
       "\n",
       "                                                pvec closest_avec  avec_dist  \\\n",
       "0  [-0.0110091024078, -0.0100927315652, 0.0118642...            B   0.673600   \n",
       "1  [0.0217765471898, 0.0255097200454, 0.008364850...            B   0.706429   \n",
       "2  [0.0108336833306, 0.0333348739892, 0.023148844...            C   0.642293   \n",
       "3  [0.0247666956857, -0.0448009822518, 0.03648750...            D   0.538173   \n",
       "4  [-0.0375164592639, 0.0500212982297, -0.0044289...            B   0.209713   \n",
       "\n",
       "                                               dists  \n",
       "0  [0.679835183902, 0.673599518912, 0.67691867520...  \n",
       "1  [0.72445609405, 0.706428517086, 0.813424001565...  \n",
       "2  [0.751297557367, 0.776472954065, 0.64229285003...  \n",
       "3  [0.570070366424, 0.670986934765, 0.58689460915...  \n",
       "4  [0.210562819276, 0.209712559749, 0.34429267593...  "
      ]
     },
     "execution_count": 88,
     "metadata": {},
     "output_type": "execute_result"
    }
   ],
   "source": [
    "data.head()"
   ]
  },
  {
   "cell_type": "code",
   "execution_count": 89,
   "metadata": {
    "collapsed": false
   },
   "outputs": [],
   "source": [
    "results_correct = data[data['correctAnswer'] == data['closest_avec']]\n",
    "results_incorrect = data[data['correctAnswer'] != data['closest_avec']]"
   ]
  },
  {
   "cell_type": "code",
   "execution_count": 90,
   "metadata": {
    "collapsed": false
   },
   "outputs": [
    {
     "name": "stdout",
     "output_type": "stream",
     "text": [
      "607\n",
      "1393\n"
     ]
    },
    {
     "data": {
      "text/plain": [
       "0.3035"
      ]
     },
     "execution_count": 90,
     "metadata": {},
     "output_type": "execute_result"
    }
   ],
   "source": [
    "print(len(results_correct))\n",
    "print(len(results_incorrect))\n",
    "len(results_correct)/len(data)"
   ]
  },
  {
   "cell_type": "code",
   "execution_count": 83,
   "metadata": {
    "collapsed": false
   },
   "outputs": [],
   "source": [
    "def numwords(s):\n",
    "    s = re.split(' ', s)\n",
    "    return len(s)\n",
    "\n",
    "def specs(results):\n",
    "    nw_q = np.mean(results.question.apply(numwords))\n",
    "    print('length of question: %s' %nw_q)\n",
    "    nw_a = (np.mean(results.answerA.apply(numwords))+np.mean(results.answerB.apply(numwords)) +\n",
    "            np.mean(results.answerC.apply(numwords))+np.mean(results.answerD.apply(numwords)))/4\n",
    "    print('length of answers: %s' %nw_a)\n",
    "    oneword = len(results[results['answerA'].apply(numwords) ==1])/len(results)\n",
    "    print('percent of one word answers: %s' \n",
    "          %oneword)\n",
    "    vec_dist = np.mean(results.avec_dist)\n",
    "    print('average distance: %s' % vec_dist)\n",
    "    \n",
    "    \n",
    "    print('\\t')"
   ]
  },
  {
   "cell_type": "code",
   "execution_count": 84,
   "metadata": {
    "collapsed": false
   },
   "outputs": [
    {
     "name": "stdout",
     "output_type": "stream",
     "text": [
      "length of question: 21.58484349258649\n",
      "length of answers: 4.811779242174629\n",
      "percent of one word answers: 0.23887973640856672\n",
      "average distance: 0.5968153117050049\n",
      "\t\n",
      "length of question: 22.2505384063173\n",
      "length of answers: 5.32735104091888\n",
      "percent of one word answers: 0.21177315147164394\n",
      "average distance: 0.5887411492433656\n",
      "\t\n"
     ]
    }
   ],
   "source": [
    "specs(results_correct)\n",
    "specs(results_incorrect)"
   ]
  },
  {
   "cell_type": "code",
   "execution_count": 149,
   "metadata": {
    "collapsed": true
   },
   "outputs": [],
   "source": [
    "#sample = pd.read_csv('../input/sample_submission.csv')\n",
    "#sample['correctAnswer'] = data['closest_avec']\n",
    "#sample.to_csv('../output/qkeywd-5_theta-id.csv', index=False)"
   ]
  },
  {
   "cell_type": "code",
   "execution_count": null,
   "metadata": {
    "collapsed": true
   },
   "outputs": [],
   "source": []
  }
 ],
 "metadata": {
  "kernelspec": {
   "display_name": "Python 3",
   "language": "python",
   "name": "python3"
  },
  "language_info": {
   "codemirror_mode": {
    "name": "ipython",
    "version": 3
   },
   "file_extension": ".py",
   "mimetype": "text/x-python",
   "name": "python",
   "nbconvert_exporter": "python",
   "pygments_lexer": "ipython3",
   "version": "3.4.3"
  }
 },
 "nbformat": 4,
 "nbformat_minor": 0
}
