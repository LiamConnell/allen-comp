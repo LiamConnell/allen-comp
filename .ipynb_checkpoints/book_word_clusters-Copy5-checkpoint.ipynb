{
 "cells": [
  {
   "cell_type": "code",
   "execution_count": 1,
   "metadata": {
    "collapsed": true
   },
   "outputs": [],
   "source": [
    "import time\n",
    "import pandas as pd\n",
    "from wikiapi import WikiApi\n",
    "wiki = WikiApi()\n",
    "import re\n",
    "from gensim.models import Word2Vec\n",
    "#import word2vec\n",
    "from scipy.spatial.distance import cosine\n",
    "import numpy as np\n",
    "import heapq\n",
    "import string\n"
   ]
  },
  {
   "cell_type": "code",
   "execution_count": 2,
   "metadata": {
    "collapsed": true
   },
   "outputs": [],
   "source": [
    "\n",
    "\n",
    "def remove_punctuation(s):\n",
    "    exclude = set(string.punctuation)\n",
    "    s = ''.join(ch for ch in s if ch not in exclude)\n",
    "    return s\n",
    "#TODO: fix this or dont use\n",
    "def get_longword(s, n):\n",
    "    s = re.split(' ', s)\n",
    "    return heapq.nlargest(n, s, key=len)\n",
    "\n",
    "def get_rarewrd(s):\n",
    "    s = re.split(' ', s)\n",
    "    freqs = [words.count(x) for x in s]\n",
    "    dd= [i for i,x in enumerate(freqs) if x == min(freqs)]\n",
    "    return [s[dd[0]]]\n",
    "\n",
    "#TODO: make this work with one word/period\n",
    "def get_avg_vec(words):\n",
    "\ttry:\n",
    "\t\twords = re.split(' ', words)\n",
    "\texcept:\n",
    "\t\tpass\n",
    "\tnwords = 0\n",
    "\tfeatureVec = np.zeros((num_features,))#,dtype=\"float32\")\n",
    "\tfor word in words:\n",
    "\t\tif word in index2word_set:\n",
    "\t\t\tnwords = nwords + 1.\n",
    "\t\t\tfeatureVec = np.add(featureVec,model[word])\n",
    "\tif nwords > 0:\n",
    "\t\tfeatureVec = np.divide(featureVec,nwords)\n",
    "\treturn featureVec\n",
    "\n",
    "def get_tvec(row):\n",
    "    if row['correctAnswer'] == 'A':\n",
    "        a = row['aavec']\n",
    "        return a\n",
    "    elif row['correctAnswer'] == 'B':\n",
    "        a = row['bavec']\n",
    "        return a\n",
    "    elif row['correctAnswer'] == 'C':\n",
    "        a = row['cavec']\n",
    "        return a\n",
    "    elif row['correctAnswer'] == 'D':\n",
    "        a = row['davec']\n",
    "        return a\n",
    "    \n",
    "def run_through_theta(v):\n",
    "    return v.dot(theta.as_matrix())\n",
    "\n",
    "def get_winner_from_avecs(row):\n",
    "\ttry:\t\n",
    "\t\tdists = []\n",
    "\t\tfor col in row['answerA':'answerD']:\n",
    "\t\t#TODO: if 'not' in words: 1-avec\n",
    "\t\t\tavec = get_avg_vec(col)\n",
    "\t\t\t#if 'not' in re.split(' ',col):\n",
    "\t\t\t#\tavec = 1-avec\n",
    "\t\t\t#\tprint('NOT')\n",
    "\t\t\t#why nan errors?\n",
    "\t\t\tif sum(np.isfinite(avec)) < 300:\n",
    "\t\t\t\tprint('avec')\n",
    "\t\t\t\tprint(avec)\n",
    "\t\t\tif  sum(np.isfinite(row['pvec'])) < 300:\n",
    "\t\t\t\tprint('pvec')\n",
    "\t\t\t\tprint(row['pvec'])\n",
    "\t\t\tdist = cosine(avec, row['pvec'])\n",
    "\t\t\tdists.append(dist)\n",
    "\t\tm = np.nanmin(dists)\n",
    "\t\tbest = [i for i, j in enumerate(dists) if j == m]\n",
    "\t\tif best == [0]:\n",
    "\t\t\treturn 'A'\n",
    "\t\tif best == [1]:\n",
    "\n",
    "\t\t\treturn 'B'\n",
    "\t\tif best == [2]:\n",
    "\t\t\treturn 'C'\n",
    "\t\tif best == [3]:\n",
    "\t\t\treturn 'D'\n",
    "\t\telse:\n",
    "\t\t\tprint('returning C becuase no best cosine')\n",
    "\t\t\tprint(len(best))\n",
    "\t\t\tprint(dists)\n",
    "\t\t\tprint(m)\n",
    "\t\t\treturn 'C'\n",
    "\texcept:\n",
    "\t\tprint('some error, returning C')\n",
    "\t\treturn 'C'\n",
    "    \n",
    "    \n",
    "    \n",
    "    \n",
    "def word_clusters(row):\n",
    "    if str(row.id)[-2:] == '01':\n",
    "        print(row.id)\n",
    "        print('\\n\\n\\n\\n')\n",
    "    print(row.correctAnswer)\n",
    "    try:\n",
    "        keywds = row.keyword\n",
    "\n",
    "        word_pos = {}\n",
    "        for keyw in keywds:\n",
    "            ls = [i for i,x in enumerate(words) if x == keyw]\n",
    "            #print(ls)\n",
    "            word_pos[keyw] = ls\n",
    "\n",
    "        spots = []\n",
    "        for key1 in keywds:\n",
    "            print(key1)\n",
    "            matches = {}\n",
    "            for z in word_pos[key1]:\n",
    "                dists=[]\n",
    "                for key_ in keywds:\n",
    "                    d= abs(min(word_pos[key_], key=lambda x:abs(x-z))-z)\n",
    "                    dists.append(d)\n",
    "                #print(z)\n",
    "                #print(dists)\n",
    "                dists.remove(max(dists))\n",
    "                matches[z] = sum(dists)\n",
    "\n",
    "            zzz= [k for k, v in matches.items() if v ==min(matches.values())]\n",
    "            spots.append(zzz[0])\n",
    "        print(spots)\n",
    "        answers = row['akeyword':'dkeyword']\n",
    "        kkk = []\n",
    "        for answer in answers:\n",
    "            print(answer[0])\n",
    "            waka = 0\n",
    "            for x in spots:\n",
    "                wd = words[x-1000:x+1000]\n",
    "                ct = wd.count(answer[0])\n",
    "                waka = (waka + ct)#/(words.count(answer[0])/2)    #trying to skew for \n",
    "            kkk.append(waka)\n",
    "        mx = max(kkk)\n",
    "        print(kkk)\n",
    "        best = [i for i, j in enumerate(kkk) if j == mx]\n",
    "        if best == [0]:\n",
    "            return 'A'\n",
    "        if best == [1]:\n",
    "            return 'B'\n",
    "        if best == [2]:\n",
    "            return 'C'\n",
    "        if best == [3]:\n",
    "            return 'D'\n",
    "        else:\n",
    "            print('returning C becuase no max')\n",
    "            return 'C'\n",
    "    except:\n",
    "        print('returning C becuase of BIG PROBLEM')\n",
    "        return 'C'\n",
    "    "
   ]
  },
  {
   "cell_type": "raw",
   "metadata": {},
   "source": [
    "start = time.time()\n",
    "model = Word2Vec.load_word2vec_format('/Users/liamconnell/Downloads/GoogleNews-vectors-negative300.bin', binary = True)\n",
    "lap1 = time.time()\n",
    "print('data gathered: %s' % (lap1 - start))"
   ]
  },
  {
   "cell_type": "raw",
   "metadata": {},
   "source": [
    "index2word_set = set(model.index2word)\n",
    "num_features = 300"
   ]
  },
  {
   "cell_type": "code",
   "execution_count": 3,
   "metadata": {
    "collapsed": false
   },
   "outputs": [],
   "source": [
    "#data  = pd.read_csv('../input/training_set.tsv', '\\t')\n",
    "data  = pd.read_csv('../input/validation_set.tsv', '\\t')"
   ]
  },
  {
   "cell_type": "code",
   "execution_count": 4,
   "metadata": {
    "collapsed": true
   },
   "outputs": [],
   "source": [
    "file = open('../input/Concepts.txt', 'r')\n",
    "words = list(file.read().split())\n",
    "words = [word.strip(string.punctuation) for word in words]"
   ]
  },
  {
   "cell_type": "code",
   "execution_count": 5,
   "metadata": {
    "collapsed": true
   },
   "outputs": [],
   "source": [
    "data.question = data.question.apply(remove_punctuation)\n",
    "data.answerA = data.answerA.apply(remove_punctuation)\n",
    "data.answerB = data.answerB.apply(remove_punctuation)\n",
    "data.answerC = data.answerC.apply(remove_punctuation)\n",
    "data.answerD = data.answerD.apply(remove_punctuation)"
   ]
  },
  {
   "cell_type": "code",
   "execution_count": 6,
   "metadata": {
    "collapsed": true
   },
   "outputs": [],
   "source": [
    "data['keyword'] =data['question'].apply(get_longword, args = (4,))\n",
    "\n",
    "#I get to choose this\n",
    "#data['qvec'] = data.keyword.apply(get_avg_vec) "
   ]
  },
  {
   "cell_type": "code",
   "execution_count": null,
   "metadata": {
    "collapsed": true
   },
   "outputs": [],
   "source": [
    "data['akeyword'] =data['answerA'].apply(get_rarewrd)\n",
    "data['bkeyword'] =data['answerB'].apply(get_rarewrd)\n",
    "data['ckeyword'] =data['answerC'].apply(get_rarewrd)\n",
    "data['dkeyword'] =data['answerD'].apply(get_rarewrd)\n"
   ]
  },
  {
   "cell_type": "raw",
   "metadata": {},
   "source": [
    "#data['qvec'] = data.question.apply(get_avg_vec) \n",
    "data['akeyword'] =data['answerA'].apply(get_longword, args = (1,))\n",
    "data['bkeyword'] =data['answerB'].apply(get_longword, args = (1,))\n",
    "data['ckeyword'] =data['answerC'].apply(get_longword, args = (1,))\n",
    "data['dkeyword'] =data['answerD'].apply(get_longword, args = (1,))\n",
    "\n"
   ]
  },
  {
   "cell_type": "code",
   "execution_count": null,
   "metadata": {
    "collapsed": true
   },
   "outputs": [],
   "source": [
    "data['guess'] = data.apply(word_clusters, axis = 1)"
   ]
  },
  {
   "cell_type": "code",
   "execution_count": null,
   "metadata": {
    "collapsed": true
   },
   "outputs": [],
   "source": [
    "sample = pd.read_csv('../input/sample_submission.csv')\n",
    "sample['correctAnswer'] = data['guess']\n",
    "sample.to_csv('../output/word_cluster_00.csv', index=False)"
   ]
  },
  {
   "cell_type": "code",
   "execution_count": 9,
   "metadata": {
    "collapsed": false
   },
   "outputs": [
    {
     "data": {
      "text/html": [
       "<div>\n",
       "<table border=\"1\" class=\"dataframe\">\n",
       "  <thead>\n",
       "    <tr style=\"text-align: right;\">\n",
       "      <th></th>\n",
       "      <th>id</th>\n",
       "      <th>question</th>\n",
       "      <th>answerA</th>\n",
       "      <th>answerB</th>\n",
       "      <th>answerC</th>\n",
       "      <th>answerD</th>\n",
       "      <th>keyword</th>\n",
       "      <th>qvec</th>\n",
       "      <th>akeyword</th>\n",
       "      <th>bkeyword</th>\n",
       "      <th>ckeyword</th>\n",
       "      <th>dkeyword</th>\n",
       "      <th>aavec</th>\n",
       "      <th>bavec</th>\n",
       "      <th>cavec</th>\n",
       "      <th>davec</th>\n",
       "    </tr>\n",
       "  </thead>\n",
       "  <tbody>\n",
       "    <tr>\n",
       "      <th>0</th>\n",
       "      <td>102501</td>\n",
       "      <td>A meter is industry by developing a process of...</td>\n",
       "      <td>cool foods during shipping</td>\n",
       "      <td>yard</td>\n",
       "      <td>nervous system</td>\n",
       "      <td>birds of prey</td>\n",
       "      <td>[developing, industry, examples, process, heat...</td>\n",
       "      <td>[-0.0076541421935, 0.0428126163781, -0.0093698...</td>\n",
       "      <td>[shipping]</td>\n",
       "      <td>[yard]</td>\n",
       "      <td>[nervous]</td>\n",
       "      <td>[birds]</td>\n",
       "      <td>[0.0599160343409, 0.123002231121, -0.045650314...</td>\n",
       "      <td>[0.00865275319666, 0.0433680191636, 0.04642602...</td>\n",
       "      <td>[0.0429564490914, 0.00291655748151, -0.0250321...</td>\n",
       "      <td>[0.0218830313534, 0.0545616932213, -0.10153727...</td>\n",
       "    </tr>\n",
       "    <tr>\n",
       "      <th>1</th>\n",
       "      <td>102502</td>\n",
       "      <td>Which part of directly involved in recycling t...</td>\n",
       "      <td>panting</td>\n",
       "      <td>urethra</td>\n",
       "      <td>predators</td>\n",
       "      <td>water</td>\n",
       "      <td>[reproduction, temperature, recycling, directl...</td>\n",
       "      <td>[-0.00762585951015, 0.00861827973276, -0.01647...</td>\n",
       "      <td>[panting]</td>\n",
       "      <td>[urethra]</td>\n",
       "      <td>[predators]</td>\n",
       "      <td>[water]</td>\n",
       "      <td>[0.0639518499374, 0.0659503489733, -0.02526669...</td>\n",
       "      <td>[-0.0568876340985, 0.0671530738473, -0.1180525...</td>\n",
       "      <td>[-0.0123091973364, 0.0607602931559, -0.1267585...</td>\n",
       "      <td>[-0.0583994314075, 0.0527478717268, 0.04502407...</td>\n",
       "    </tr>\n",
       "    <tr>\n",
       "      <th>2</th>\n",
       "      <td>102503</td>\n",
       "      <td>Which of the seeds grow better in the light or...</td>\n",
       "      <td>muscular system</td>\n",
       "      <td>keep one group in a light place and another in...</td>\n",
       "      <td>skates and rays</td>\n",
       "      <td>nervous tissue</td>\n",
       "      <td>[framework, provides, better, organs, Which]</td>\n",
       "      <td>[-0.0406858625356, 0.000434694252908, 0.027284...</td>\n",
       "      <td>[muscular]</td>\n",
       "      <td>[another]</td>\n",
       "      <td>[skates]</td>\n",
       "      <td>[nervous]</td>\n",
       "      <td>[0.0851534381509, 0.12938041985, 0.03531557321...</td>\n",
       "      <td>[0.119020909071, -0.0120366625488, 0.056220933...</td>\n",
       "      <td>[-0.0518872700632, -0.0753730908036, 0.0167950...</td>\n",
       "      <td>[0.0429564490914, 0.00291655748151, -0.0250321...</td>\n",
       "    </tr>\n",
       "    <tr>\n",
       "      <th>3</th>\n",
       "      <td>102504</td>\n",
       "      <td>Which of the hermaphroditic This growing seaso...</td>\n",
       "      <td>coniferous forest</td>\n",
       "      <td>no reproductive organs</td>\n",
       "      <td>there is less water loss through small leaves</td>\n",
       "      <td>perennial</td>\n",
       "      <td>[hermaphroditic, growing, season, Which, think]</td>\n",
       "      <td>[-0.0035101480782, 0.0597439706326, -0.0213354...</td>\n",
       "      <td>[coniferous]</td>\n",
       "      <td>[reproductive]</td>\n",
       "      <td>[through]</td>\n",
       "      <td>[perennial]</td>\n",
       "      <td>[0.0473578386009, 0.0444385223091, 0.017191544...</td>\n",
       "      <td>[0.00988108664751, 0.0588776506484, -0.0523356...</td>\n",
       "      <td>[0.00783920008689, 0.0335110835731, -0.0832989...</td>\n",
       "      <td>[0.0817415639758, 0.203823119402, 0.0391014851...</td>\n",
       "    </tr>\n",
       "    <tr>\n",
       "      <th>4</th>\n",
       "      <td>102505</td>\n",
       "      <td>When marsupials following is not a transport o...</td>\n",
       "      <td>heart</td>\n",
       "      <td>glucagon</td>\n",
       "      <td>hatched</td>\n",
       "      <td>to protect vital organs</td>\n",
       "      <td>[marsupials, following, transport, response, f...</td>\n",
       "      <td>[0.00498434053734, 0.000841771054547, -0.01591...</td>\n",
       "      <td>[heart]</td>\n",
       "      <td>[glucagon]</td>\n",
       "      <td>[hatched]</td>\n",
       "      <td>[protect]</td>\n",
       "      <td>[-0.0549635440111, 0.0888696238399, 0.02337735...</td>\n",
       "      <td>[-0.0631601214409, -0.0484089106321, -0.010907...</td>\n",
       "      <td>[-0.0236770678312, 0.0858293697238, -0.0198295...</td>\n",
       "      <td>[-0.0634209290147, 0.0630781129003, -0.0521080...</td>\n",
       "    </tr>\n",
       "  </tbody>\n",
       "</table>\n",
       "</div>"
      ],
      "text/plain": [
       "       id                                           question  \\\n",
       "0  102501  A meter is industry by developing a process of...   \n",
       "1  102502  Which part of directly involved in recycling t...   \n",
       "2  102503  Which of the seeds grow better in the light or...   \n",
       "3  102504  Which of the hermaphroditic This growing seaso...   \n",
       "4  102505  When marsupials following is not a transport o...   \n",
       "\n",
       "                      answerA  \\\n",
       "0  cool foods during shipping   \n",
       "1                     panting   \n",
       "2             muscular system   \n",
       "3           coniferous forest   \n",
       "4                       heart   \n",
       "\n",
       "                                             answerB  \\\n",
       "0                                               yard   \n",
       "1                                            urethra   \n",
       "2  keep one group in a light place and another in...   \n",
       "3                             no reproductive organs   \n",
       "4                                           glucagon   \n",
       "\n",
       "                                         answerC                  answerD  \\\n",
       "0                                 nervous system            birds of prey   \n",
       "1                                      predators                    water   \n",
       "2                                skates and rays           nervous tissue   \n",
       "3  there is less water loss through small leaves                perennial   \n",
       "4                                        hatched  to protect vital organs   \n",
       "\n",
       "                                             keyword  \\\n",
       "0  [developing, industry, examples, process, heat...   \n",
       "1  [reproduction, temperature, recycling, directl...   \n",
       "2       [framework, provides, better, organs, Which]   \n",
       "3    [hermaphroditic, growing, season, Which, think]   \n",
       "4  [marsupials, following, transport, response, f...   \n",
       "\n",
       "                                                qvec      akeyword  \\\n",
       "0  [-0.0076541421935, 0.0428126163781, -0.0093698...    [shipping]   \n",
       "1  [-0.00762585951015, 0.00861827973276, -0.01647...     [panting]   \n",
       "2  [-0.0406858625356, 0.000434694252908, 0.027284...    [muscular]   \n",
       "3  [-0.0035101480782, 0.0597439706326, -0.0213354...  [coniferous]   \n",
       "4  [0.00498434053734, 0.000841771054547, -0.01591...       [heart]   \n",
       "\n",
       "         bkeyword     ckeyword     dkeyword  \\\n",
       "0          [yard]    [nervous]      [birds]   \n",
       "1       [urethra]  [predators]      [water]   \n",
       "2       [another]     [skates]    [nervous]   \n",
       "3  [reproductive]    [through]  [perennial]   \n",
       "4      [glucagon]    [hatched]    [protect]   \n",
       "\n",
       "                                               aavec  \\\n",
       "0  [0.0599160343409, 0.123002231121, -0.045650314...   \n",
       "1  [0.0639518499374, 0.0659503489733, -0.02526669...   \n",
       "2  [0.0851534381509, 0.12938041985, 0.03531557321...   \n",
       "3  [0.0473578386009, 0.0444385223091, 0.017191544...   \n",
       "4  [-0.0549635440111, 0.0888696238399, 0.02337735...   \n",
       "\n",
       "                                               bavec  \\\n",
       "0  [0.00865275319666, 0.0433680191636, 0.04642602...   \n",
       "1  [-0.0568876340985, 0.0671530738473, -0.1180525...   \n",
       "2  [0.119020909071, -0.0120366625488, 0.056220933...   \n",
       "3  [0.00988108664751, 0.0588776506484, -0.0523356...   \n",
       "4  [-0.0631601214409, -0.0484089106321, -0.010907...   \n",
       "\n",
       "                                               cavec  \\\n",
       "0  [0.0429564490914, 0.00291655748151, -0.0250321...   \n",
       "1  [-0.0123091973364, 0.0607602931559, -0.1267585...   \n",
       "2  [-0.0518872700632, -0.0753730908036, 0.0167950...   \n",
       "3  [0.00783920008689, 0.0335110835731, -0.0832989...   \n",
       "4  [-0.0236770678312, 0.0858293697238, -0.0198295...   \n",
       "\n",
       "                                               davec  \n",
       "0  [0.0218830313534, 0.0545616932213, -0.10153727...  \n",
       "1  [-0.0583994314075, 0.0527478717268, 0.04502407...  \n",
       "2  [0.0429564490914, 0.00291655748151, -0.0250321...  \n",
       "3  [0.0817415639758, 0.203823119402, 0.0391014851...  \n",
       "4  [-0.0634209290147, 0.0630781129003, -0.0521080...  "
      ]
     },
     "execution_count": 9,
     "metadata": {},
     "output_type": "execute_result"
    }
   ],
   "source": [
    "data.head()"
   ]
  },
  {
   "cell_type": "code",
   "execution_count": 39,
   "metadata": {
    "collapsed": true
   },
   "outputs": [],
   "source": [
    "look = ['developmental', 'physiological', 'processes']"
   ]
  },
  {
   "cell_type": "code",
   "execution_count": 40,
   "metadata": {
    "collapsed": false
   },
   "outputs": [
    {
     "data": {
      "text/plain": [
       "True"
      ]
     },
     "execution_count": 40,
     "metadata": {},
     "output_type": "execute_result"
    }
   ],
   "source": [
    "look[0] in words"
   ]
  },
  {
   "cell_type": "code",
   "execution_count": 43,
   "metadata": {
    "collapsed": false
   },
   "outputs": [],
   "source": [
    "word_pos = {}\n",
    "for lk in look:\n",
    "    ls = [i for i,x in enumerate(words) if x == lk]\n",
    "            #print(ls)\n",
    "    word_pos[lk] = ls"
   ]
  },
  {
   "cell_type": "code",
   "execution_count": 44,
   "metadata": {
    "collapsed": false
   },
   "outputs": [
    {
     "name": "stdout",
     "output_type": "stream",
     "text": [
      "[1193, 1207, 6201, 7045, 18461, 29634, 29727, 53344, 59059, 76247, 78507, 84890, 84967, 85520, 93957, 97624, 110308, 126219, 126972, 135139, 135142, 135226, 135330, 135949, 136900, 138999, 139020, 139197, 151894, 152338, 158102, 158147, 161354, 180498, 204986, 205307, 207131, 209804, 210181, 211519, 215792, 216321, 216900, 219860, 227865, 230199, 242659, 251996, 252682, 252687, 252761, 253363, 257452, 257470, 258535, 261209, 261757, 261799, 261926, 261950, 262189, 262233, 262263, 262387, 262398, 262403, 262408, 262531, 262533, 262546, 272171, 272180, 276192, 276249, 285628, 292802, 295581, 295770, 296097, 296584, 305290, 305371, 305459, 311133, 321081, 323595, 332374, 343066, 343255, 348237, 348293, 348299, 348330, 348336, 348342, 348620, 349051, 349809, 350633, 351107, 351292, 351308, 352938, 359105, 364654, 365098, 367246, 367739, 367789, 369288, 374720, 374875, 376253, 377302, 380090, 381142, 386021, 386658, 396673, 396681, 396688, 396695, 397350, 405330, 418128, 418135, 418603, 418610, 446213, 446733, 446934, 468120, 468408, 468687, 474378, 474620, 474648, 474654, 474665, 475055, 476576, 537216, 537655, 539075, 539453, 541086, 541586, 541597, 551886, 632454, 641076, 669398, 670940, 672143, 674043, 677458, 677533, 677767, 679879, 680023, 680083, 680266, 681071, 690199, 690299, 691081, 691095, 694234, 694336, 694383, 694528, 695336, 695381, 695385, 695711, 695749, 696518, 696528, 696555, 696916, 697147, 698066, 707809, 707916, 713070, 713240, 713681, 723581, 729721, 732227, 732616, 734092, 742503, 747728, 748340, 748511, 753508, 761030, 761365, 761686, 761723, 762132, 762213, 762288, 762713, 762774, 774272, 776463, 776801, 777714, 782376, 822854, 822962, 823039, 859376, 860031, 860438, 860854, 863506, 863701, 863865, 864298, 870712, 870732, 871101, 871155, 874530, 874884, 875597, 875635, 875686, 877927, 880863, 883315, 884027, 885762, 886323, 886416, 896083, 903476, 917980, 918415, 924537, 928924, 935015, 935112, 935321, 937543, 941087, 941918, 942341, 944160, 945879, 945961, 946094, 946522, 946710, 947691, 947704, 952094, 952595, 955454, 955830, 957259, 962044, 969014, 969208, 970237, 970251, 971013, 974466, 974902, 975451, 977545, 978052, 978373, 979693, 980240, 981098, 983060, 985205, 985252, 986079, 986923, 987356, 988499, 989170, 989188, 990926, 991927, 992094, 994230, 999752, 1001690, 1001695, 1001891, 1004513, 1006596, 1009534, 1011313, 1011322, 1012602, 1017388, 1018953, 1019107, 1019163, 1019619, 1019719, 1021624, 1025794, 1026301, 1026654, 1026697, 1028329, 1059474, 1066194, 1066711, 1067116, 1070224, 1071343, 1076067, 1078657, 1078834, 1079396, 1081984, 1082038, 1082118, 1082146, 1082156, 1082399, 1082677, 1088024, 1088082, 1090399, 1094537, 1096429, 1104813, 1107845, 1108914, 1109605, 1109616, 1109810, 1109903, 1110501, 1110627, 1111809, 1111931, 1113843, 1114433, 1123021, 1123949, 1128763, 1137859, 1144002, 1178006, 1179459, 1180362, 1209997, 1217061, 1219493, 1247602, 1249437, 1249855, 1257413, 1257853, 1268027, 1268077, 1269847, 1271987, 1272656, 1275367, 1288618, 1291502, 1292933, 1294457, 1311565, 1311672, 1311846, 1311893, 1312721, 1312815, 1312872, 1313345, 1313514, 1314049, 1314110, 1314282, 1315850, 1316268, 1317458, 1318055, 1319059, 1319073, 1323716, 1324331, 1324527, 1326224, 1326718, 1328412, 1328471, 1328507, 1328562, 1328630, 1329427, 1329877, 1329952, 1346925, 1350780, 1378099, 1421275, 1421802, 1535753]\n",
      "[93956, 110307, 678781, 925610, 931381, 947579, 987988, 1346204, 1535749]\n",
      "[93939, 110305, 110387, 110461, 110478, 184909, 726063, 726105, 734733, 738124, 854475, 913836, 947633, 947851, 1042846, 1051711, 1055972, 1056014, 1056698, 1066527, 1089073, 1180602]\n"
     ]
    }
   ],
   "source": [
    "for key in word_pos:\n",
    "    print(word_pos[key])"
   ]
  },
  {
   "cell_type": "code",
   "execution_count": 45,
   "metadata": {
    "collapsed": true
   },
   "outputs": [],
   "source": [
    "jkl = [1193, 1207, 6201, 7045, 18461, 29634, 29727, 53344, 59059, 76247, 78507, 84890, 84967, 85520, 93957, 97624, 110308, 126219, 126972, 135139, 135142, 135226, 135330, 135949, 136900, 138999, 139020, 139197, 151894, 152338, 158102, 158147, 161354, 180498, 204986, 205307, 207131, 209804, 210181, 211519, 215792, 216321, 216900, 219860, 227865, 230199, 242659, 251996, 252682, 252687, 252761, 253363, 257452, 257470, 258535, 261209, 261757, 261799, 261926, 261950, 262189, 262233, 262263, 262387, 262398, 262403, 262408, 262531, 262533, 262546, 272171, 272180, 276192, 276249, 285628, 292802, 295581, 295770, 296097, 296584, 305290, 305371, 305459, 311133, 321081, 323595, 332374, 343066, 343255, 348237, 348293, 348299, 348330, 348336, 348342, 348620, 349051, 349809, 350633, 351107, 351292, 351308, 352938, 359105, 364654, 365098, 367246, 367739, 367789, 369288, 374720, 374875, 376253, 377302, 380090, 381142, 386021, 386658, 396673, 396681, 396688, 396695, 397350, 405330, 418128, 418135, 418603, 418610, 446213, 446733, 446934, 468120, 468408, 468687, 474378, 474620, 474648, 474654, 474665, 475055, 476576, 537216, 537655, 539075, 539453, 541086, 541586, 541597, 551886, 632454, 641076, 669398, 670940, 672143, 674043, 677458, 677533, 677767, 679879, 680023, 680083, 680266, 681071, 690199, 690299, 691081, 691095, 694234, 694336, 694383, 694528, 695336, 695381, 695385, 695711, 695749, 696518, 696528, 696555, 696916, 697147, 698066, 707809, 707916, 713070, 713240, 713681, 723581, 729721, 732227, 732616, 734092, 742503, 747728, 748340, 748511, 753508, 761030, 761365, 761686, 761723, 762132, 762213, 762288, 762713, 762774, 774272, 776463, 776801, 777714, 782376, 822854, 822962, 823039, 859376, 860031, 860438, 860854, 863506, 863701, 863865, 864298, 870712, 870732, 871101, 871155, 874530, 874884, 875597, 875635, 875686, 877927, 880863, 883315, 884027, 885762, 886323, 886416, 896083, 903476, 917980, 918415, 924537, 928924, 935015, 935112, 935321, 937543, 941087, 941918, 942341, 944160, 945879, 945961, 946094, 946522, 946710, 947691, 947704, 952094, 952595, 955454, 955830, 957259, 962044, 969014, 969208, 970237, 970251, 971013, 974466, 974902, 975451, 977545, 978052, 978373, 979693, 980240, 981098, 983060, 985205, 985252, 986079, 986923, 987356, 988499, 989170, 989188, 990926, 991927, 992094, 994230, 999752, 1001690, 1001695, 1001891, 1004513, 1006596, 1009534, 1011313, 1011322, 1012602, 1017388, 1018953, 1019107, 1019163, 1019619, 1019719, 1021624, 1025794, 1026301, 1026654, 1026697, 1028329, 1059474, 1066194, 1066711, 1067116, 1070224, 1071343, 1076067, 1078657, 1078834, 1079396, 1081984, 1082038, 1082118, 1082146, 1082156, 1082399, 1082677, 1088024, 1088082, 1090399, 1094537, 1096429, 1104813, 1107845, 1108914, 1109605, 1109616, 1109810, 1109903, 1110501, 1110627, 1111809, 1111931, 1113843, 1114433, 1123021, 1123949, 1128763, 1137859, 1144002, 1178006, 1179459, 1180362, 1209997, 1217061, 1219493, 1247602, 1249437, 1249855, 1257413, 1257853, 1268027, 1268077, 1269847, 1271987, 1272656, 1275367, 1288618, 1291502, 1292933, 1294457, 1311565, 1311672, 1311846, 1311893, 1312721, 1312815, 1312872, 1313345, 1313514, 1314049, 1314110, 1314282, 1315850, 1316268, 1317458, 1318055, 1319059, 1319073, 1323716, 1324331, 1324527, 1326224, 1326718, 1328412, 1328471, 1328507, 1328562, 1328630, 1329427, 1329877, 1329952, 1346925, 1350780, 1378099, 1421275, 1421802, 1535753]"
   ]
  },
  {
   "cell_type": "code",
   "execution_count": 57,
   "metadata": {
    "collapsed": false
   },
   "outputs": [
    {
     "name": "stdout",
     "output_type": "stream",
     "text": [
      "1\n",
      "1\n",
      "-1014\n",
      "-1073\n",
      "-2457\n",
      "112\n",
      "511\n",
      "721\n",
      "4\n"
     ]
    }
   ],
   "source": [
    "zz = [93956, 110307, 678781, 925610, 931381, 947579, 987988, 1346204, 1535749]\n",
    "for z in zz:\n",
    "    print(min(jkl, key=lambda x:abs(x-z))-z)"
   ]
  },
  {
   "cell_type": "code",
   "execution_count": 54,
   "metadata": {
    "collapsed": false
   },
   "outputs": [
    {
     "data": {
      "text/plain": [
       "['used',\n",
       " 'in',\n",
       " 'scientific',\n",
       " 'research',\n",
       " 'especially',\n",
       " 'developmental',\n",
       " 'and',\n",
       " 'physiological',\n",
       " 'processes',\n",
       " 'largely',\n",
       " 'due',\n",
       " 'to',\n",
       " 'their',\n",
       " 'unique',\n",
       " 'ability',\n",
       " 'to',\n",
       " 'undergo']"
      ]
     },
     "execution_count": 54,
     "metadata": {},
     "output_type": "execute_result"
    }
   ],
   "source": [
    "words[110300:110317]"
   ]
  },
  {
   "cell_type": "code",
   "execution_count": null,
   "metadata": {
    "collapsed": true
   },
   "outputs": [],
   "source": []
  }
 ],
 "metadata": {
  "kernelspec": {
   "display_name": "Python 3",
   "language": "python",
   "name": "python3"
  },
  "language_info": {
   "codemirror_mode": {
    "name": "ipython",
    "version": 3
   },
   "file_extension": ".py",
   "mimetype": "text/x-python",
   "name": "python",
   "nbconvert_exporter": "python",
   "pygments_lexer": "ipython3",
   "version": "3.4.3"
  }
 },
 "nbformat": 4,
 "nbformat_minor": 0
}
